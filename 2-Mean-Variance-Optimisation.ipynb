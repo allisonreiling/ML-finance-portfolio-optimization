{
 "cells": [
  {
   "cell_type": "markdown",
   "metadata": {},
   "source": [
    "# Mean-variance optimization\n",
    "\n",
    "In this cookbook recipe, we work on several examples demonstrating PyPortfolioOpt's mean-variance capabilities. I will discuss what I think should be your \"default\" options, based on my experience in optimising portfolios.\n",
    "\n",
    "To start, you need a list of tickers. Some people just provide the whole universe of stocks, but I don't think this is a good idea - portfolio optimization is quite different from asset selection. I would suggest anywhere from 10-50 stocks as a starting point.\n",
    "\n",
    "Some of the things we cover:\n",
    "\n",
    "- Downloading data and getting it into PyPortfolioOpt\n",
    "- Calculating and visualising the covariance matrix\n",
    "- Optimising a long/short portfolio to minimise total variance\n",
    "- Optimising a portfolio to maximise the Sharpe ratio, subject to sector constraints\n",
    "- Optimising a portfolio to maximise return for a given risk, subject to sector constraints, with an L2 regularisation objective\n",
    "- Optimising a market-neutral portfolio to minimise risk for a given level of return\n",
    "- Optimising along the mean-semivariance frontier\n",
    "- Optimising along the mean-CVaR frontier\n",
    "- Plotting the efficient frontier:\n",
    "    - Simple (using CLA)\n",
    "    - Constrained\n",
    "    - Complex plots\n",
    "\n",
    "Please consult the [docs](https://pyportfolioopt.readthedocs.io/) for more info.\n",
    "\n",
    "## Downloading data\n",
    "\n",
    "To download data, we will use `yfinance`, an excellent library that provides free price data from Yahoo Finance, no API key needed."
   ]
  },
  {
   "cell_type": "code",
   "execution_count": 1,
   "metadata": {},
   "outputs": [],
   "source": [
    "import yfinance as yf\n",
    "import matplotlib.pyplot as plt\n",
    "import pandas as pd\n",
    "import numpy as np"
   ]
  },
  {
   "cell_type": "code",
   "execution_count": 2,
   "metadata": {},
   "outputs": [],
   "source": [
    "tickers = [\"MSFT\", \"AMZN\", \"KO\", \"MA\", \"COST\", \n",
    "           \"LUV\", \"XOM\", \"PFE\", \"JPM\", \"UNH\", \n",
    "           \"ACN\", \"DIS\", \"GILD\", \"F\", \"TSLA\"] "
   ]
  },
  {
   "cell_type": "code",
   "execution_count": 3,
   "metadata": {},
   "outputs": [
    {
     "name": "stdout",
     "output_type": "stream",
     "text": [
      "[*********************100%***********************]  15 of 15 completed\n"
     ]
    }
   ],
   "source": [
    "ohlc = yf.download(tickers, period=\"max\")"
   ]
  },
  {
   "cell_type": "code",
   "execution_count": 4,
   "metadata": {},
   "outputs": [
    {
     "data": {
      "text/html": [
       "<div>\n",
       "<style scoped>\n",
       "    .dataframe tbody tr th:only-of-type {\n",
       "        vertical-align: middle;\n",
       "    }\n",
       "\n",
       "    .dataframe tbody tr th {\n",
       "        vertical-align: top;\n",
       "    }\n",
       "\n",
       "    .dataframe thead th {\n",
       "        text-align: right;\n",
       "    }\n",
       "</style>\n",
       "<table border=\"1\" class=\"dataframe\">\n",
       "  <thead>\n",
       "    <tr style=\"text-align: right;\">\n",
       "      <th></th>\n",
       "      <th>ACN</th>\n",
       "      <th>AMZN</th>\n",
       "      <th>COST</th>\n",
       "      <th>DIS</th>\n",
       "      <th>F</th>\n",
       "      <th>GILD</th>\n",
       "      <th>JPM</th>\n",
       "      <th>KO</th>\n",
       "      <th>LUV</th>\n",
       "      <th>MA</th>\n",
       "      <th>MSFT</th>\n",
       "      <th>PFE</th>\n",
       "      <th>TSLA</th>\n",
       "      <th>UNH</th>\n",
       "      <th>XOM</th>\n",
       "    </tr>\n",
       "    <tr>\n",
       "      <th>Date</th>\n",
       "      <th></th>\n",
       "      <th></th>\n",
       "      <th></th>\n",
       "      <th></th>\n",
       "      <th></th>\n",
       "      <th></th>\n",
       "      <th></th>\n",
       "      <th></th>\n",
       "      <th></th>\n",
       "      <th></th>\n",
       "      <th></th>\n",
       "      <th></th>\n",
       "      <th></th>\n",
       "      <th></th>\n",
       "      <th></th>\n",
       "    </tr>\n",
       "  </thead>\n",
       "  <tbody>\n",
       "    <tr>\n",
       "      <th>2022-02-15</th>\n",
       "      <td>329.410004</td>\n",
       "      <td>3130.209961</td>\n",
       "      <td>513.919983</td>\n",
       "      <td>154.720001</td>\n",
       "      <td>18.080000</td>\n",
       "      <td>61.330002</td>\n",
       "      <td>154.720001</td>\n",
       "      <td>60.910000</td>\n",
       "      <td>47.299999</td>\n",
       "      <td>381.540009</td>\n",
       "      <td>299.850006</td>\n",
       "      <td>49.790001</td>\n",
       "      <td>922.429993</td>\n",
       "      <td>478.230011</td>\n",
       "      <td>77.989998</td>\n",
       "    </tr>\n",
       "    <tr>\n",
       "      <th>2022-02-16</th>\n",
       "      <td>333.720001</td>\n",
       "      <td>3162.010010</td>\n",
       "      <td>512.400024</td>\n",
       "      <td>156.350006</td>\n",
       "      <td>18.010000</td>\n",
       "      <td>61.900002</td>\n",
       "      <td>155.000000</td>\n",
       "      <td>60.900002</td>\n",
       "      <td>47.419998</td>\n",
       "      <td>382.929993</td>\n",
       "      <td>299.500000</td>\n",
       "      <td>49.680000</td>\n",
       "      <td>923.390015</td>\n",
       "      <td>480.049988</td>\n",
       "      <td>78.349998</td>\n",
       "    </tr>\n",
       "    <tr>\n",
       "      <th>2022-02-17</th>\n",
       "      <td>322.910004</td>\n",
       "      <td>3093.050049</td>\n",
       "      <td>515.010010</td>\n",
       "      <td>152.949997</td>\n",
       "      <td>17.540001</td>\n",
       "      <td>61.290001</td>\n",
       "      <td>151.429993</td>\n",
       "      <td>62.119999</td>\n",
       "      <td>46.380001</td>\n",
       "      <td>373.700012</td>\n",
       "      <td>290.730011</td>\n",
       "      <td>48.900002</td>\n",
       "      <td>876.349976</td>\n",
       "      <td>470.339996</td>\n",
       "      <td>78.230003</td>\n",
       "    </tr>\n",
       "    <tr>\n",
       "      <th>2022-02-18</th>\n",
       "      <td>321.179993</td>\n",
       "      <td>3052.030029</td>\n",
       "      <td>512.669983</td>\n",
       "      <td>151.360001</td>\n",
       "      <td>18.040001</td>\n",
       "      <td>61.049999</td>\n",
       "      <td>152.139999</td>\n",
       "      <td>62.540001</td>\n",
       "      <td>45.980000</td>\n",
       "      <td>369.950012</td>\n",
       "      <td>287.929993</td>\n",
       "      <td>48.529999</td>\n",
       "      <td>856.979980</td>\n",
       "      <td>467.809998</td>\n",
       "      <td>77.360001</td>\n",
       "    </tr>\n",
       "    <tr>\n",
       "      <th>2022-02-22</th>\n",
       "      <td>320.220001</td>\n",
       "      <td>2998.860107</td>\n",
       "      <td>501.809998</td>\n",
       "      <td>148.869995</td>\n",
       "      <td>17.282900</td>\n",
       "      <td>60.915001</td>\n",
       "      <td>151.729996</td>\n",
       "      <td>62.134998</td>\n",
       "      <td>45.790001</td>\n",
       "      <td>366.790009</td>\n",
       "      <td>286.040009</td>\n",
       "      <td>47.779999</td>\n",
       "      <td>808.299988</td>\n",
       "      <td>461.795105</td>\n",
       "      <td>76.084999</td>\n",
       "    </tr>\n",
       "  </tbody>\n",
       "</table>\n",
       "</div>"
      ],
      "text/plain": [
       "                   ACN         AMZN        COST         DIS          F  \\\n",
       "Date                                                                     \n",
       "2022-02-15  329.410004  3130.209961  513.919983  154.720001  18.080000   \n",
       "2022-02-16  333.720001  3162.010010  512.400024  156.350006  18.010000   \n",
       "2022-02-17  322.910004  3093.050049  515.010010  152.949997  17.540001   \n",
       "2022-02-18  321.179993  3052.030029  512.669983  151.360001  18.040001   \n",
       "2022-02-22  320.220001  2998.860107  501.809998  148.869995  17.282900   \n",
       "\n",
       "                 GILD         JPM         KO        LUV          MA  \\\n",
       "Date                                                                  \n",
       "2022-02-15  61.330002  154.720001  60.910000  47.299999  381.540009   \n",
       "2022-02-16  61.900002  155.000000  60.900002  47.419998  382.929993   \n",
       "2022-02-17  61.290001  151.429993  62.119999  46.380001  373.700012   \n",
       "2022-02-18  61.049999  152.139999  62.540001  45.980000  369.950012   \n",
       "2022-02-22  60.915001  151.729996  62.134998  45.790001  366.790009   \n",
       "\n",
       "                  MSFT        PFE        TSLA         UNH        XOM  \n",
       "Date                                                                  \n",
       "2022-02-15  299.850006  49.790001  922.429993  478.230011  77.989998  \n",
       "2022-02-16  299.500000  49.680000  923.390015  480.049988  78.349998  \n",
       "2022-02-17  290.730011  48.900002  876.349976  470.339996  78.230003  \n",
       "2022-02-18  287.929993  48.529999  856.979980  467.809998  77.360001  \n",
       "2022-02-22  286.040009  47.779999  808.299988  461.795105  76.084999  "
      ]
     },
     "execution_count": 4,
     "metadata": {},
     "output_type": "execute_result"
    }
   ],
   "source": [
    "prices = ohlc[\"Adj Close\"].dropna(how=\"all\")\n",
    "prices.tail()"
   ]
  },
  {
   "cell_type": "code",
   "execution_count": 5,
   "metadata": {},
   "outputs": [
    {
     "data": {
      "image/png": "[encoded data removed]",
      "text/plain": [
       "<Figure size 1080x720 with 1 Axes>"
      ]
     },
     "metadata": {
      "needs_background": "light"
     },
     "output_type": "display_data"
    }
   ],
   "source": [
    "prices[prices.index >= \"2008-01-01\"].plot(figsize=(15,10));"
   ]
  },
  {
   "cell_type": "markdown",
   "metadata": {},
   "source": [
    "## Calculating the covariance matrix"
   ]
  },
  {
   "cell_type": "code",
   "execution_count": 6,
   "metadata": {},
   "outputs": [
    {
     "data": {
      "text/plain": [
       "'1.5.1'"
      ]
     },
     "execution_count": 6,
     "metadata": {},
     "output_type": "execute_result"
    }
   ],
   "source": [
    "import pypfopt\n",
    "pypfopt.__version__"
   ]
  },
  {
   "cell_type": "code",
   "execution_count": 7,
   "metadata": {},
   "outputs": [
    {
     "data": {
      "text/html": [
       "<div>\n",
       "<style scoped>\n",
       "    .dataframe tbody tr th:only-of-type {\n",
       "        vertical-align: middle;\n",
       "    }\n",
       "\n",
       "    .dataframe tbody tr th {\n",
       "        vertical-align: top;\n",
       "    }\n",
       "\n",
       "    .dataframe thead th {\n",
       "        text-align: right;\n",
       "    }\n",
       "</style>\n",
       "<table border=\"1\" class=\"dataframe\">\n",
       "  <thead>\n",
       "    <tr style=\"text-align: right;\">\n",
       "      <th></th>\n",
       "      <th>ACN</th>\n",
       "      <th>AMZN</th>\n",
       "      <th>COST</th>\n",
       "      <th>DIS</th>\n",
       "      <th>F</th>\n",
       "      <th>GILD</th>\n",
       "      <th>JPM</th>\n",
       "      <th>KO</th>\n",
       "      <th>LUV</th>\n",
       "      <th>MA</th>\n",
       "      <th>MSFT</th>\n",
       "      <th>PFE</th>\n",
       "      <th>TSLA</th>\n",
       "      <th>UNH</th>\n",
       "      <th>XOM</th>\n",
       "    </tr>\n",
       "  </thead>\n",
       "  <tbody>\n",
       "    <tr>\n",
       "      <th>ACN</th>\n",
       "      <td>0.090477</td>\n",
       "      <td>0.044119</td>\n",
       "      <td>0.027068</td>\n",
       "      <td>0.039872</td>\n",
       "      <td>0.042303</td>\n",
       "      <td>0.028876</td>\n",
       "      <td>0.048025</td>\n",
       "      <td>0.020032</td>\n",
       "      <td>0.036009</td>\n",
       "      <td>0.044939</td>\n",
       "      <td>0.040185</td>\n",
       "      <td>0.025465</td>\n",
       "      <td>0.038837</td>\n",
       "      <td>0.030243</td>\n",
       "      <td>0.030256</td>\n",
       "    </tr>\n",
       "    <tr>\n",
       "      <th>AMZN</th>\n",
       "      <td>0.044119</td>\n",
       "      <td>0.332909</td>\n",
       "      <td>0.046624</td>\n",
       "      <td>0.053942</td>\n",
       "      <td>0.050740</td>\n",
       "      <td>0.058853</td>\n",
       "      <td>0.065805</td>\n",
       "      <td>0.019710</td>\n",
       "      <td>0.046565</td>\n",
       "      <td>0.055063</td>\n",
       "      <td>0.071084</td>\n",
       "      <td>0.031001</td>\n",
       "      <td>0.056480</td>\n",
       "      <td>0.034518</td>\n",
       "      <td>0.026522</td>\n",
       "    </tr>\n",
       "    <tr>\n",
       "      <th>COST</th>\n",
       "      <td>0.027068</td>\n",
       "      <td>0.046624</td>\n",
       "      <td>0.101261</td>\n",
       "      <td>0.031449</td>\n",
       "      <td>0.030902</td>\n",
       "      <td>0.026975</td>\n",
       "      <td>0.038480</td>\n",
       "      <td>0.020982</td>\n",
       "      <td>0.030892</td>\n",
       "      <td>0.031584</td>\n",
       "      <td>0.036808</td>\n",
       "      <td>0.025178</td>\n",
       "      <td>0.023901</td>\n",
       "      <td>0.027236</td>\n",
       "      <td>0.020254</td>\n",
       "    </tr>\n",
       "    <tr>\n",
       "      <th>DIS</th>\n",
       "      <td>0.039872</td>\n",
       "      <td>0.053942</td>\n",
       "      <td>0.031449</td>\n",
       "      <td>0.099271</td>\n",
       "      <td>0.040077</td>\n",
       "      <td>0.032245</td>\n",
       "      <td>0.046941</td>\n",
       "      <td>0.026093</td>\n",
       "      <td>0.038948</td>\n",
       "      <td>0.049598</td>\n",
       "      <td>0.042037</td>\n",
       "      <td>0.029338</td>\n",
       "      <td>0.036668</td>\n",
       "      <td>0.031978</td>\n",
       "      <td>0.025555</td>\n",
       "    </tr>\n",
       "    <tr>\n",
       "      <th>F</th>\n",
       "      <td>0.042303</td>\n",
       "      <td>0.050740</td>\n",
       "      <td>0.030902</td>\n",
       "      <td>0.040077</td>\n",
       "      <td>0.126260</td>\n",
       "      <td>0.029955</td>\n",
       "      <td>0.054267</td>\n",
       "      <td>0.026177</td>\n",
       "      <td>0.045714</td>\n",
       "      <td>0.061188</td>\n",
       "      <td>0.040492</td>\n",
       "      <td>0.026950</td>\n",
       "      <td>0.050212</td>\n",
       "      <td>0.028925</td>\n",
       "      <td>0.027733</td>\n",
       "    </tr>\n",
       "    <tr>\n",
       "      <th>GILD</th>\n",
       "      <td>0.028876</td>\n",
       "      <td>0.058853</td>\n",
       "      <td>0.026975</td>\n",
       "      <td>0.032245</td>\n",
       "      <td>0.029955</td>\n",
       "      <td>0.236676</td>\n",
       "      <td>0.042552</td>\n",
       "      <td>0.016549</td>\n",
       "      <td>0.030985</td>\n",
       "      <td>0.032395</td>\n",
       "      <td>0.035233</td>\n",
       "      <td>0.032538</td>\n",
       "      <td>0.031857</td>\n",
       "      <td>0.034014</td>\n",
       "      <td>0.021148</td>\n",
       "    </tr>\n",
       "    <tr>\n",
       "      <th>JPM</th>\n",
       "      <td>0.048025</td>\n",
       "      <td>0.065805</td>\n",
       "      <td>0.038480</td>\n",
       "      <td>0.046941</td>\n",
       "      <td>0.054267</td>\n",
       "      <td>0.042552</td>\n",
       "      <td>0.128584</td>\n",
       "      <td>0.027698</td>\n",
       "      <td>0.048864</td>\n",
       "      <td>0.069593</td>\n",
       "      <td>0.049016</td>\n",
       "      <td>0.032680</td>\n",
       "      <td>0.038755</td>\n",
       "      <td>0.038587</td>\n",
       "      <td>0.033205</td>\n",
       "    </tr>\n",
       "    <tr>\n",
       "      <th>KO</th>\n",
       "      <td>0.020032</td>\n",
       "      <td>0.019710</td>\n",
       "      <td>0.020982</td>\n",
       "      <td>0.026093</td>\n",
       "      <td>0.026177</td>\n",
       "      <td>0.016549</td>\n",
       "      <td>0.027698</td>\n",
       "      <td>0.053674</td>\n",
       "      <td>0.022917</td>\n",
       "      <td>0.025932</td>\n",
       "      <td>0.027669</td>\n",
       "      <td>0.026003</td>\n",
       "      <td>0.017833</td>\n",
       "      <td>0.022842</td>\n",
       "      <td>0.020708</td>\n",
       "    </tr>\n",
       "    <tr>\n",
       "      <th>LUV</th>\n",
       "      <td>0.036009</td>\n",
       "      <td>0.046565</td>\n",
       "      <td>0.030892</td>\n",
       "      <td>0.038948</td>\n",
       "      <td>0.045714</td>\n",
       "      <td>0.030985</td>\n",
       "      <td>0.048864</td>\n",
       "      <td>0.022917</td>\n",
       "      <td>0.138367</td>\n",
       "      <td>0.047161</td>\n",
       "      <td>0.036289</td>\n",
       "      <td>0.025899</td>\n",
       "      <td>0.036376</td>\n",
       "      <td>0.032554</td>\n",
       "      <td>0.023473</td>\n",
       "    </tr>\n",
       "    <tr>\n",
       "      <th>MA</th>\n",
       "      <td>0.044939</td>\n",
       "      <td>0.055063</td>\n",
       "      <td>0.031584</td>\n",
       "      <td>0.049598</td>\n",
       "      <td>0.061188</td>\n",
       "      <td>0.032395</td>\n",
       "      <td>0.069593</td>\n",
       "      <td>0.025932</td>\n",
       "      <td>0.047161</td>\n",
       "      <td>0.118862</td>\n",
       "      <td>0.048230</td>\n",
       "      <td>0.032046</td>\n",
       "      <td>0.045990</td>\n",
       "      <td>0.043052</td>\n",
       "      <td>0.042297</td>\n",
       "    </tr>\n",
       "    <tr>\n",
       "      <th>MSFT</th>\n",
       "      <td>0.040185</td>\n",
       "      <td>0.071084</td>\n",
       "      <td>0.036808</td>\n",
       "      <td>0.042037</td>\n",
       "      <td>0.040492</td>\n",
       "      <td>0.035233</td>\n",
       "      <td>0.049016</td>\n",
       "      <td>0.027669</td>\n",
       "      <td>0.036289</td>\n",
       "      <td>0.048230</td>\n",
       "      <td>0.114344</td>\n",
       "      <td>0.030531</td>\n",
       "      <td>0.046723</td>\n",
       "      <td>0.033908</td>\n",
       "      <td>0.029028</td>\n",
       "    </tr>\n",
       "    <tr>\n",
       "      <th>PFE</th>\n",
       "      <td>0.025465</td>\n",
       "      <td>0.031001</td>\n",
       "      <td>0.025178</td>\n",
       "      <td>0.029338</td>\n",
       "      <td>0.026950</td>\n",
       "      <td>0.032538</td>\n",
       "      <td>0.032680</td>\n",
       "      <td>0.026003</td>\n",
       "      <td>0.025899</td>\n",
       "      <td>0.032046</td>\n",
       "      <td>0.030531</td>\n",
       "      <td>0.076160</td>\n",
       "      <td>0.017809</td>\n",
       "      <td>0.028098</td>\n",
       "      <td>0.023018</td>\n",
       "    </tr>\n",
       "    <tr>\n",
       "      <th>TSLA</th>\n",
       "      <td>0.038837</td>\n",
       "      <td>0.056480</td>\n",
       "      <td>0.023901</td>\n",
       "      <td>0.036668</td>\n",
       "      <td>0.050212</td>\n",
       "      <td>0.031857</td>\n",
       "      <td>0.038755</td>\n",
       "      <td>0.017833</td>\n",
       "      <td>0.036376</td>\n",
       "      <td>0.045990</td>\n",
       "      <td>0.046723</td>\n",
       "      <td>0.017809</td>\n",
       "      <td>0.318718</td>\n",
       "      <td>0.030518</td>\n",
       "      <td>0.028852</td>\n",
       "    </tr>\n",
       "    <tr>\n",
       "      <th>UNH</th>\n",
       "      <td>0.030243</td>\n",
       "      <td>0.034518</td>\n",
       "      <td>0.027236</td>\n",
       "      <td>0.031978</td>\n",
       "      <td>0.028925</td>\n",
       "      <td>0.034014</td>\n",
       "      <td>0.038587</td>\n",
       "      <td>0.022842</td>\n",
       "      <td>0.032554</td>\n",
       "      <td>0.043052</td>\n",
       "      <td>0.033908</td>\n",
       "      <td>0.028098</td>\n",
       "      <td>0.030518</td>\n",
       "      <td>0.163559</td>\n",
       "      <td>0.022319</td>\n",
       "    </tr>\n",
       "    <tr>\n",
       "      <th>XOM</th>\n",
       "      <td>0.030256</td>\n",
       "      <td>0.026522</td>\n",
       "      <td>0.020254</td>\n",
       "      <td>0.025555</td>\n",
       "      <td>0.027733</td>\n",
       "      <td>0.021148</td>\n",
       "      <td>0.033205</td>\n",
       "      <td>0.020708</td>\n",
       "      <td>0.023473</td>\n",
       "      <td>0.042297</td>\n",
       "      <td>0.029028</td>\n",
       "      <td>0.023018</td>\n",
       "      <td>0.028852</td>\n",
       "      <td>0.022319</td>\n",
       "      <td>0.051657</td>\n",
       "    </tr>\n",
       "  </tbody>\n",
       "</table>\n",
       "</div>"
      ],
      "text/plain": [
       "           ACN      AMZN      COST       DIS         F      GILD       JPM  \\\n",
       "ACN   0.090477  0.044119  0.027068  0.039872  0.042303  0.028876  0.048025   \n",
       "AMZN  0.044119  0.332909  0.046624  0.053942  0.050740  0.058853  0.065805   \n",
       "COST  0.027068  0.046624  0.101261  0.031449  0.030902  0.026975  0.038480   \n",
       "DIS   0.039872  0.053942  0.031449  0.099271  0.040077  0.032245  0.046941   \n",
       "F     0.042303  0.050740  0.030902  0.040077  0.126260  0.029955  0.054267   \n",
       "GILD  0.028876  0.058853  0.026975  0.032245  0.029955  0.236676  0.042552   \n",
       "JPM   0.048025  0.065805  0.038480  0.046941  0.054267  0.042552  0.128584   \n",
       "KO    0.020032  0.019710  0.020982  0.026093  0.026177  0.016549  0.027698   \n",
       "LUV   0.036009  0.046565  0.030892  0.038948  0.045714  0.030985  0.048864   \n",
       "MA    0.044939  0.055063  0.031584  0.049598  0.061188  0.032395  0.069593   \n",
       "MSFT  0.040185  0.071084  0.036808  0.042037  0.040492  0.035233  0.049016   \n",
       "PFE   0.025465  0.031001  0.025178  0.029338  0.026950  0.032538  0.032680   \n",
       "TSLA  0.038837  0.056480  0.023901  0.036668  0.050212  0.031857  0.038755   \n",
       "UNH   0.030243  0.034518  0.027236  0.031978  0.028925  0.034014  0.038587   \n",
       "XOM   0.030256  0.026522  0.020254  0.025555  0.027733  0.021148  0.033205   \n",
       "\n",
       "            KO       LUV        MA      MSFT       PFE      TSLA       UNH  \\\n",
       "ACN   0.020032  0.036009  0.044939  0.040185  0.025465  0.038837  0.030243   \n",
       "AMZN  0.019710  0.046565  0.055063  0.071084  0.031001  0.056480  0.034518   \n",
       "COST  0.020982  0.030892  0.031584  0.036808  0.025178  0.023901  0.027236   \n",
       "DIS   0.026093  0.038948  0.049598  0.042037  0.029338  0.036668  0.031978   \n",
       "F     0.026177  0.045714  0.061188  0.040492  0.026950  0.050212  0.028925   \n",
       "GILD  0.016549  0.030985  0.032395  0.035233  0.032538  0.031857  0.034014   \n",
       "JPM   0.027698  0.048864  0.069593  0.049016  0.032680  0.038755  0.038587   \n",
       "KO    0.053674  0.022917  0.025932  0.027669  0.026003  0.017833  0.022842   \n",
       "LUV   0.022917  0.138367  0.047161  0.036289  0.025899  0.036376  0.032554   \n",
       "MA    0.025932  0.047161  0.118862  0.048230  0.032046  0.045990  0.043052   \n",
       "MSFT  0.027669  0.036289  0.048230  0.114344  0.030531  0.046723  0.033908   \n",
       "PFE   0.026003  0.025899  0.032046  0.030531  0.076160  0.017809  0.028098   \n",
       "TSLA  0.017833  0.036376  0.045990  0.046723  0.017809  0.318718  0.030518   \n",
       "UNH   0.022842  0.032554  0.043052  0.033908  0.028098  0.030518  0.163559   \n",
       "XOM   0.020708  0.023473  0.042297  0.029028  0.023018  0.028852  0.022319   \n",
       "\n",
       "           XOM  \n",
       "ACN   0.030256  \n",
       "AMZN  0.026522  \n",
       "COST  0.020254  \n",
       "DIS   0.025555  \n",
       "F     0.027733  \n",
       "GILD  0.021148  \n",
       "JPM   0.033205  \n",
       "KO    0.020708  \n",
       "LUV   0.023473  \n",
       "MA    0.042297  \n",
       "MSFT  0.029028  \n",
       "PFE   0.023018  \n",
       "TSLA  0.028852  \n",
       "UNH   0.022319  \n",
       "XOM   0.051657  "
      ]
     },
     "execution_count": 7,
     "metadata": {},
     "output_type": "execute_result"
    }
   ],
   "source": [
    "from pypfopt import risk_models\n",
    "from pypfopt import plotting\n",
    "\n",
    "sample_cov = risk_models.sample_cov(prices, frequency=252)\n",
    "sample_cov"
   ]
  },
  {
   "cell_type": "code",
   "execution_count": 8,
   "metadata": {},
   "outputs": [
    {
     "data": {
      "image/png": "[encoded data removed]",
      "text/plain": [
       "<Figure size 432x288 with 2 Axes>"
      ]
     },
     "metadata": {
      "needs_background": "light"
     },
     "output_type": "display_data"
    }
   ],
   "source": [
    "plotting.plot_covariance(sample_cov, plot_correlation=True);"
   ]
  },
  {
   "cell_type": "markdown",
   "metadata": {},
   "source": [
    "For reasons discussed in the docs, the sample covariance matrix should not be your default choice. I think a better option is Ledoit-Wolf shrinkage, which reduces the extreme values in the covariance matrix. In the image below, we can see that there are fewer bright spots outside the diagonal:"
   ]
  },
  {
   "cell_type": "code",
   "execution_count": 9,
   "metadata": {},
   "outputs": [
    {
     "data": {
      "image/png": "[encoded data removed]",
      "text/plain": [
       "<Figure size 432x288 with 2 Axes>"
      ]
     },
     "metadata": {
      "needs_background": "light"
     },
     "output_type": "display_data"
    }
   ],
   "source": [
    "S = risk_models.CovarianceShrinkage(prices).ledoit_wolf()\n",
    "plotting.plot_covariance(S, plot_correlation=True);"
   ]
  },
  {
   "cell_type": "markdown",
   "metadata": {},
   "source": [
    "## Return estimation\n",
    "\n",
    "As discussed in the docs, it is often a bad idea to provide returns using a simple estimate like the mean of past returns. Unless you have a proprietary method for estimating returns, research suggests that you may be better off not providing expected returns – you can then just find the `min_volatility()` portfolio or use `HRP`. \n",
    "\n",
    "However, in this example we will use the CAPM returns, which aims to be slightly more stable than the default mean historical return. Please see the notebook `1-RiskReturnModels.ipynb` for more information."
   ]
  },
  {
   "cell_type": "code",
   "execution_count": 10,
   "metadata": {},
   "outputs": [
    {
     "data": {
      "text/plain": [
       "ACN     0.208419\n",
       "AMZN    0.356823\n",
       "COST    0.194906\n",
       "DIS     0.224931\n",
       "F       0.225297\n",
       "GILD    0.256166\n",
       "JPM     0.253499\n",
       "KO      0.149116\n",
       "LUV     0.228321\n",
       "MA      0.261693\n",
       "MSFT    0.239486\n",
       "PFE     0.179279\n",
       "TSLA    0.281130\n",
       "UNH     0.221907\n",
       "XOM     0.142416\n",
       "Name: mkt, dtype: float64"
      ]
     },
     "execution_count": 10,
     "metadata": {},
     "output_type": "execute_result"
    }
   ],
   "source": [
    "from pypfopt import expected_returns\n",
    "\n",
    "mu = expected_returns.capm_return(prices)\n",
    "mu"
   ]
  },
  {
   "cell_type": "code",
   "execution_count": 11,
   "metadata": {},
   "outputs": [
    {
     "data": {
      "image/png": "[encoded data removed]",
      "text/plain": [
       "<Figure size 720x432 with 1 Axes>"
      ]
     },
     "metadata": {
      "needs_background": "light"
     },
     "output_type": "display_data"
    }
   ],
   "source": [
    "mu.plot.barh(figsize=(10,6));"
   ]
  },
  {
   "cell_type": "markdown",
   "metadata": {},
   "source": [
    "## Long/short min variance\n",
    "\n",
    "In this section, we construct a long/short portfolio with the objective of minimising variance. There is a good deal of research that demonstrates that these global-minimum variance (GMV) portfolios outperform mean-variance optimized portfolios."
   ]
  },
  {
   "cell_type": "code",
   "execution_count": 12,
   "metadata": {},
   "outputs": [],
   "source": [
    "from pypfopt import EfficientFrontier"
   ]
  },
  {
   "cell_type": "code",
   "execution_count": 13,
   "metadata": {},
   "outputs": [
    {
     "data": {
      "text/plain": [
       "OrderedDict([('ACN', 0.23372),\n",
       "             ('AMZN', 0.00899),\n",
       "             ('COST', 0.09938),\n",
       "             ('DIS', -0.01686),\n",
       "             ('F', -0.01708),\n",
       "             ('GILD', 0.04411),\n",
       "             ('JPM', -0.04973),\n",
       "             ('KO', 0.12596),\n",
       "             ('LUV', 0.0244),\n",
       "             ('MA', 0.23246),\n",
       "             ('MSFT', 0.00176),\n",
       "             ('PFE', 0.06601),\n",
       "             ('TSLA', 0.13984),\n",
       "             ('UNH', 0.03111),\n",
       "             ('XOM', 0.07592)])"
      ]
     },
     "execution_count": 13,
     "metadata": {},
     "output_type": "execute_result"
    }
   ],
   "source": [
    "S = risk_models.CovarianceShrinkage(prices).ledoit_wolf()\n",
    "\n",
    "# You don't have to provide expected returns in this case\n",
    "ef = EfficientFrontier(None, S, weight_bounds=(None, None))\n",
    "ef.min_volatility()\n",
    "weights = ef.clean_weights()\n",
    "weights"
   ]
  },
  {
   "cell_type": "code",
   "execution_count": 14,
   "metadata": {},
   "outputs": [
    {
     "data": {
      "image/png": "[encoded data removed]",
      "text/plain": [
       "<Figure size 432x288 with 1 Axes>"
      ]
     },
     "metadata": {
      "needs_background": "light"
     },
     "output_type": "display_data"
    }
   ],
   "source": [
    "pd.Series(weights).plot.barh();"
   ]
  },
  {
   "cell_type": "markdown",
   "metadata": {},
   "source": [
    "We can get a quick indication of the portfolio performance as follows. Note that this is an in sample estimate and may have very little resemblance to how the portfolio actually performs!"
   ]
  },
  {
   "cell_type": "code",
   "execution_count": 15,
   "metadata": {},
   "outputs": [
    {
     "name": "stdout",
     "output_type": "stream",
     "text": [
      "Annual volatility: 11.9%\n"
     ]
    }
   ],
   "source": [
    "ef.portfolio_performance(verbose=True);"
   ]
  },
  {
   "cell_type": "code",
   "execution_count": 16,
   "metadata": {},
   "outputs": [
    {
     "data": {
      "text/html": [
       "<div>\n",
       "<style scoped>\n",
       "    .dataframe tbody tr th:only-of-type {\n",
       "        vertical-align: middle;\n",
       "    }\n",
       "\n",
       "    .dataframe tbody tr th {\n",
       "        vertical-align: top;\n",
       "    }\n",
       "\n",
       "    .dataframe thead th {\n",
       "        text-align: right;\n",
       "    }\n",
       "</style>\n",
       "<table border=\"1\" class=\"dataframe\">\n",
       "  <thead>\n",
       "    <tr style=\"text-align: right;\">\n",
       "      <th></th>\n",
       "      <th>ACN</th>\n",
       "      <th>AMZN</th>\n",
       "      <th>COST</th>\n",
       "      <th>DIS</th>\n",
       "      <th>F</th>\n",
       "      <th>GILD</th>\n",
       "      <th>JPM</th>\n",
       "      <th>KO</th>\n",
       "      <th>LUV</th>\n",
       "      <th>MA</th>\n",
       "      <th>MSFT</th>\n",
       "      <th>PFE</th>\n",
       "      <th>TSLA</th>\n",
       "      <th>UNH</th>\n",
       "      <th>XOM</th>\n",
       "    </tr>\n",
       "    <tr>\n",
       "      <th>Date</th>\n",
       "      <th></th>\n",
       "      <th></th>\n",
       "      <th></th>\n",
       "      <th></th>\n",
       "      <th></th>\n",
       "      <th></th>\n",
       "      <th></th>\n",
       "      <th></th>\n",
       "      <th></th>\n",
       "      <th></th>\n",
       "      <th></th>\n",
       "      <th></th>\n",
       "      <th></th>\n",
       "      <th></th>\n",
       "      <th></th>\n",
       "    </tr>\n",
       "  </thead>\n",
       "  <tbody>\n",
       "    <tr>\n",
       "      <th>1962-01-02</th>\n",
       "      <td>NaN</td>\n",
       "      <td>NaN</td>\n",
       "      <td>NaN</td>\n",
       "      <td>0.058398</td>\n",
       "      <td>NaN</td>\n",
       "      <td>NaN</td>\n",
       "      <td>NaN</td>\n",
       "      <td>0.051133</td>\n",
       "      <td>NaN</td>\n",
       "      <td>NaN</td>\n",
       "      <td>NaN</td>\n",
       "      <td>NaN</td>\n",
       "      <td>NaN</td>\n",
       "      <td>NaN</td>\n",
       "      <td>0.101854</td>\n",
       "    </tr>\n",
       "    <tr>\n",
       "      <th>1962-01-03</th>\n",
       "      <td>NaN</td>\n",
       "      <td>NaN</td>\n",
       "      <td>NaN</td>\n",
       "      <td>0.059182</td>\n",
       "      <td>NaN</td>\n",
       "      <td>NaN</td>\n",
       "      <td>NaN</td>\n",
       "      <td>0.049994</td>\n",
       "      <td>NaN</td>\n",
       "      <td>NaN</td>\n",
       "      <td>NaN</td>\n",
       "      <td>NaN</td>\n",
       "      <td>NaN</td>\n",
       "      <td>NaN</td>\n",
       "      <td>0.103367</td>\n",
       "    </tr>\n",
       "    <tr>\n",
       "      <th>1962-01-04</th>\n",
       "      <td>NaN</td>\n",
       "      <td>NaN</td>\n",
       "      <td>NaN</td>\n",
       "      <td>0.059182</td>\n",
       "      <td>NaN</td>\n",
       "      <td>NaN</td>\n",
       "      <td>NaN</td>\n",
       "      <td>0.050374</td>\n",
       "      <td>NaN</td>\n",
       "      <td>NaN</td>\n",
       "      <td>NaN</td>\n",
       "      <td>NaN</td>\n",
       "      <td>NaN</td>\n",
       "      <td>NaN</td>\n",
       "      <td>0.103619</td>\n",
       "    </tr>\n",
       "    <tr>\n",
       "      <th>1962-01-05</th>\n",
       "      <td>NaN</td>\n",
       "      <td>NaN</td>\n",
       "      <td>NaN</td>\n",
       "      <td>0.059378</td>\n",
       "      <td>NaN</td>\n",
       "      <td>NaN</td>\n",
       "      <td>NaN</td>\n",
       "      <td>0.049234</td>\n",
       "      <td>NaN</td>\n",
       "      <td>NaN</td>\n",
       "      <td>NaN</td>\n",
       "      <td>NaN</td>\n",
       "      <td>NaN</td>\n",
       "      <td>NaN</td>\n",
       "      <td>0.101350</td>\n",
       "    </tr>\n",
       "    <tr>\n",
       "      <th>1962-01-08</th>\n",
       "      <td>NaN</td>\n",
       "      <td>NaN</td>\n",
       "      <td>NaN</td>\n",
       "      <td>0.059182</td>\n",
       "      <td>NaN</td>\n",
       "      <td>NaN</td>\n",
       "      <td>NaN</td>\n",
       "      <td>0.048728</td>\n",
       "      <td>NaN</td>\n",
       "      <td>NaN</td>\n",
       "      <td>NaN</td>\n",
       "      <td>NaN</td>\n",
       "      <td>NaN</td>\n",
       "      <td>NaN</td>\n",
       "      <td>0.101098</td>\n",
       "    </tr>\n",
       "    <tr>\n",
       "      <th>...</th>\n",
       "      <td>...</td>\n",
       "      <td>...</td>\n",
       "      <td>...</td>\n",
       "      <td>...</td>\n",
       "      <td>...</td>\n",
       "      <td>...</td>\n",
       "      <td>...</td>\n",
       "      <td>...</td>\n",
       "      <td>...</td>\n",
       "      <td>...</td>\n",
       "      <td>...</td>\n",
       "      <td>...</td>\n",
       "      <td>...</td>\n",
       "      <td>...</td>\n",
       "      <td>...</td>\n",
       "    </tr>\n",
       "    <tr>\n",
       "      <th>2022-02-15</th>\n",
       "      <td>329.410004</td>\n",
       "      <td>3130.209961</td>\n",
       "      <td>513.919983</td>\n",
       "      <td>154.720001</td>\n",
       "      <td>18.080000</td>\n",
       "      <td>61.330002</td>\n",
       "      <td>154.720001</td>\n",
       "      <td>60.910000</td>\n",
       "      <td>47.299999</td>\n",
       "      <td>381.540009</td>\n",
       "      <td>299.850006</td>\n",
       "      <td>49.790001</td>\n",
       "      <td>922.429993</td>\n",
       "      <td>478.230011</td>\n",
       "      <td>77.989998</td>\n",
       "    </tr>\n",
       "    <tr>\n",
       "      <th>2022-02-16</th>\n",
       "      <td>333.720001</td>\n",
       "      <td>3162.010010</td>\n",
       "      <td>512.400024</td>\n",
       "      <td>156.350006</td>\n",
       "      <td>18.010000</td>\n",
       "      <td>61.900002</td>\n",
       "      <td>155.000000</td>\n",
       "      <td>60.900002</td>\n",
       "      <td>47.419998</td>\n",
       "      <td>382.929993</td>\n",
       "      <td>299.500000</td>\n",
       "      <td>49.680000</td>\n",
       "      <td>923.390015</td>\n",
       "      <td>480.049988</td>\n",
       "      <td>78.349998</td>\n",
       "    </tr>\n",
       "    <tr>\n",
       "      <th>2022-02-17</th>\n",
       "      <td>322.910004</td>\n",
       "      <td>3093.050049</td>\n",
       "      <td>515.010010</td>\n",
       "      <td>152.949997</td>\n",
       "      <td>17.540001</td>\n",
       "      <td>61.290001</td>\n",
       "      <td>151.429993</td>\n",
       "      <td>62.119999</td>\n",
       "      <td>46.380001</td>\n",
       "      <td>373.700012</td>\n",
       "      <td>290.730011</td>\n",
       "      <td>48.900002</td>\n",
       "      <td>876.349976</td>\n",
       "      <td>470.339996</td>\n",
       "      <td>78.230003</td>\n",
       "    </tr>\n",
       "    <tr>\n",
       "      <th>2022-02-18</th>\n",
       "      <td>321.179993</td>\n",
       "      <td>3052.030029</td>\n",
       "      <td>512.669983</td>\n",
       "      <td>151.360001</td>\n",
       "      <td>18.040001</td>\n",
       "      <td>61.049999</td>\n",
       "      <td>152.139999</td>\n",
       "      <td>62.540001</td>\n",
       "      <td>45.980000</td>\n",
       "      <td>369.950012</td>\n",
       "      <td>287.929993</td>\n",
       "      <td>48.529999</td>\n",
       "      <td>856.979980</td>\n",
       "      <td>467.809998</td>\n",
       "      <td>77.360001</td>\n",
       "    </tr>\n",
       "    <tr>\n",
       "      <th>2022-02-22</th>\n",
       "      <td>320.220001</td>\n",
       "      <td>2998.860107</td>\n",
       "      <td>501.809998</td>\n",
       "      <td>148.869995</td>\n",
       "      <td>17.282900</td>\n",
       "      <td>60.915001</td>\n",
       "      <td>151.729996</td>\n",
       "      <td>62.134998</td>\n",
       "      <td>45.790001</td>\n",
       "      <td>366.790009</td>\n",
       "      <td>286.040009</td>\n",
       "      <td>47.779999</td>\n",
       "      <td>808.299988</td>\n",
       "      <td>461.795105</td>\n",
       "      <td>76.084999</td>\n",
       "    </tr>\n",
       "  </tbody>\n",
       "</table>\n",
       "<p>15140 rows × 15 columns</p>\n",
       "</div>"
      ],
      "text/plain": [
       "                   ACN         AMZN        COST         DIS          F  \\\n",
       "Date                                                                     \n",
       "1962-01-02         NaN          NaN         NaN    0.058398        NaN   \n",
       "1962-01-03         NaN          NaN         NaN    0.059182        NaN   \n",
       "1962-01-04         NaN          NaN         NaN    0.059182        NaN   \n",
       "1962-01-05         NaN          NaN         NaN    0.059378        NaN   \n",
       "1962-01-08         NaN          NaN         NaN    0.059182        NaN   \n",
       "...                ...          ...         ...         ...        ...   \n",
       "2022-02-15  329.410004  3130.209961  513.919983  154.720001  18.080000   \n",
       "2022-02-16  333.720001  3162.010010  512.400024  156.350006  18.010000   \n",
       "2022-02-17  322.910004  3093.050049  515.010010  152.949997  17.540001   \n",
       "2022-02-18  321.179993  3052.030029  512.669983  151.360001  18.040001   \n",
       "2022-02-22  320.220001  2998.860107  501.809998  148.869995  17.282900   \n",
       "\n",
       "                 GILD         JPM         KO        LUV          MA  \\\n",
       "Date                                                                  \n",
       "1962-01-02        NaN         NaN   0.051133        NaN         NaN   \n",
       "1962-01-03        NaN         NaN   0.049994        NaN         NaN   \n",
       "1962-01-04        NaN         NaN   0.050374        NaN         NaN   \n",
       "1962-01-05        NaN         NaN   0.049234        NaN         NaN   \n",
       "1962-01-08        NaN         NaN   0.048728        NaN         NaN   \n",
       "...               ...         ...        ...        ...         ...   \n",
       "2022-02-15  61.330002  154.720001  60.910000  47.299999  381.540009   \n",
       "2022-02-16  61.900002  155.000000  60.900002  47.419998  382.929993   \n",
       "2022-02-17  61.290001  151.429993  62.119999  46.380001  373.700012   \n",
       "2022-02-18  61.049999  152.139999  62.540001  45.980000  369.950012   \n",
       "2022-02-22  60.915001  151.729996  62.134998  45.790001  366.790009   \n",
       "\n",
       "                  MSFT        PFE        TSLA         UNH        XOM  \n",
       "Date                                                                  \n",
       "1962-01-02         NaN        NaN         NaN         NaN   0.101854  \n",
       "1962-01-03         NaN        NaN         NaN         NaN   0.103367  \n",
       "1962-01-04         NaN        NaN         NaN         NaN   0.103619  \n",
       "1962-01-05         NaN        NaN         NaN         NaN   0.101350  \n",
       "1962-01-08         NaN        NaN         NaN         NaN   0.101098  \n",
       "...                ...        ...         ...         ...        ...  \n",
       "2022-02-15  299.850006  49.790001  922.429993  478.230011  77.989998  \n",
       "2022-02-16  299.500000  49.680000  923.390015  480.049988  78.349998  \n",
       "2022-02-17  290.730011  48.900002  876.349976  470.339996  78.230003  \n",
       "2022-02-18  287.929993  48.529999  856.979980  467.809998  77.360001  \n",
       "2022-02-22  286.040009  47.779999  808.299988  461.795105  76.084999  \n",
       "\n",
       "[15140 rows x 15 columns]"
      ]
     },
     "execution_count": 16,
     "metadata": {},
     "output_type": "execute_result"
    }
   ],
   "source": [
    "prices"
   ]
  },
  {
   "cell_type": "markdown",
   "metadata": {},
   "source": [
    "Let's say we were happy with this portfolio and wanted to actually go out and buy the shares.  To do this, we would need to construct a **discrete allocation** (unless your broker supports fractional shares!)\n",
    "\n",
    "If we had \\$20,0000 to invest and would like our portfolio to be 130/30 long/short, we can construct the actual allocation as follows:"
   ]
  },
  {
   "cell_type": "code",
   "execution_count": 54,
   "metadata": {},
   "outputs": [
    {
     "name": "stdout",
     "output_type": "stream",
     "text": [
      "Discrete allocation performed with $122.11 leftover\n"
     ]
    },
    {
     "data": {
      "text/plain": [
       "{'MA': 16,\n",
       " 'ACN': 16,\n",
       " 'TSLA': 4,\n",
       " 'KO': 43,\n",
       " 'COST': 3,\n",
       " 'PFE': 21,\n",
       " 'XOM': 3,\n",
       " 'GILD': 4}"
      ]
     },
     "execution_count": 54,
     "metadata": {},
     "output_type": "execute_result"
    }
   ],
   "source": [
    "from pypfopt import DiscreteAllocation\n",
    "\n",
    "latest_prices = prices.iloc[-1]  # prices as of the day you are allocating\n",
    "da = DiscreteAllocation(weights, latest_prices, total_portfolio_value=20000, short_ratio=0.3)\n",
    "alloc, leftover = da.greedy_portfolio() #instead of lp_portfolio()\n",
    "print(f\"Discrete allocation performed with ${leftover:.2f} leftover\")\n",
    "alloc"
   ]
  },
  {
   "cell_type": "markdown",
   "metadata": {},
   "source": [
    "## Max Sharpe with sector constraints\n",
    "\n",
    "If you have your own model for returns (or have read the warnings and want to proceed anyways), you may consider maximising the Sharpe ratio. This theoretically gives the optimal portfolio in terms of risks-returns.\n",
    "\n",
    "In this section, we construct a long-only max-sharpe portfolio, but also incorporate sector constraints. Sector constraints require three things. A `sector_mapper`, your `sector_lower` bounds, and your `sector_upper` bounds."
   ]
  },
  {
   "cell_type": "code",
   "execution_count": 18,
   "metadata": {},
   "outputs": [],
   "source": [
    "sector_mapper = {\n",
    "    \"MSFT\": \"Tech\",\n",
    "    \"AMZN\": \"Consumer Discretionary\",\n",
    "    \"KO\": \"Consumer Staples\",\n",
    "    \"MA\": \"Financial Services\",\n",
    "    \"COST\": \"Consumer Staples\",\n",
    "    \"LUV\": \"Aerospace\",\n",
    "    \"XOM\": \"Energy\",\n",
    "    \"PFE\": \"Healthcare\",\n",
    "    \"JPM\": \"Financial Services\",\n",
    "    \"UNH\": \"Healthcare\",\n",
    "    \"ACN\": \"Misc\",\n",
    "    \"DIS\": \"Media\",\n",
    "    \"GILD\": \"Healthcare\",\n",
    "    \"F\": \"Auto\",\n",
    "    \"TSLA\": \"Auto\"\n",
    "}\n",
    "\n",
    "sector_lower = {\n",
    "    \"Consumer Staples\": 0.1, # at least 10% to staples\n",
    "    \"Tech\": 0.05 # at least 5% to tech\n",
    "    # For all other sectors, it will be assumed there is no lower bound\n",
    "}\n",
    "\n",
    "sector_upper = {\n",
    "    \"Tech\": 0.2,\n",
    "    \"Aerospace\":0.1,\n",
    "    \"Energy\": 0.1,\n",
    "    \"Auto\":0.15\n",
    "}"
   ]
  },
  {
   "cell_type": "markdown",
   "metadata": {},
   "source": [
    "We then set up the optimizer and add our constraints. We can use `ef.add_objective()` to add other constraints. For example, let's say that in addition to the above sector constraints, I specifically want:\n",
    "\n",
    "- 10% of the portfolio in AMZN\n",
    "- Less than 5% of my portfolio in TSLA"
   ]
  },
  {
   "cell_type": "code",
   "execution_count": 19,
   "metadata": {},
   "outputs": [],
   "source": [
    "mu = expected_returns.capm_return(prices)\n",
    "S = risk_models.CovarianceShrinkage(prices).ledoit_wolf()\n",
    "\n",
    "ef = EfficientFrontier(mu, S)  # weight_bounds automatically set to (0, 1)\n",
    "ef.add_sector_constraints(sector_mapper, sector_lower, sector_upper)\n",
    "\n",
    "amzn_index = ef.tickers.index(\"AMZN\")\n",
    "ef.add_constraint(lambda w: w[amzn_index] == 0.10)\n",
    "\n",
    "tsla_index = ef.tickers.index(\"TSLA\")\n",
    "ef.add_constraint(lambda w: w[tsla_index] <= 0.05)\n",
    "\n",
    "ef.add_constraint(lambda w: w[10] >= 0.05)\n",
    "\n",
    "ef.max_sharpe()\n",
    "weights = ef.clean_weights()"
   ]
  },
  {
   "cell_type": "code",
   "execution_count": 20,
   "metadata": {},
   "outputs": [
    {
     "data": {
      "text/plain": [
       "OrderedDict([('ACN', 0.1701),\n",
       "             ('AMZN', 0.1),\n",
       "             ('COST', 0.05555),\n",
       "             ('DIS', 0.0),\n",
       "             ('F', 0.0),\n",
       "             ('GILD', 0.06241),\n",
       "             ('JPM', 0.0),\n",
       "             ('KO', 0.04445),\n",
       "             ('LUV', 0.02317),\n",
       "             ('MA', 0.3847),\n",
       "             ('MSFT', 0.05),\n",
       "             ('PFE', 0.0257),\n",
       "             ('TSLA', 0.05),\n",
       "             ('UNH', 0.03392),\n",
       "             ('XOM', 0.0)])"
      ]
     },
     "execution_count": 20,
     "metadata": {},
     "output_type": "execute_result"
    }
   ],
   "source": [
    "weights"
   ]
  },
  {
   "cell_type": "code",
   "execution_count": 21,
   "metadata": {},
   "outputs": [
    {
     "data": {
      "image/png": "[encoded data removed]",
      "text/plain": [
       "<Figure size 720x720 with 1 Axes>"
      ]
     },
     "metadata": {},
     "output_type": "display_data"
    }
   ],
   "source": [
    "pd.Series(weights).plot.pie(figsize=(10,10));"
   ]
  },
  {
   "cell_type": "markdown",
   "metadata": {},
   "source": [
    "We can immediately see that our explicit constraints were satisfied, and can check all the sector constraints as follows:\n"
   ]
  },
  {
   "cell_type": "code",
   "execution_count": 22,
   "metadata": {},
   "outputs": [
    {
     "name": "stdout",
     "output_type": "stream",
     "text": [
      "Consumer Discretionary: 0.100\n",
      "Financial Services: 0.385\n",
      "Misc: 0.170\n",
      "Media: 0.000\n",
      "Auto: 0.050\n",
      "Aerospace: 0.023\n",
      "Energy: 0.000\n",
      "Healthcare: 0.122\n",
      "Consumer Staples: 0.100\n",
      "Tech: 0.050\n"
     ]
    }
   ],
   "source": [
    "# O(N^2) loop not a good idea in a coding interview :)\n",
    "for sector in set(sector_mapper.values()):\n",
    "    total_weight = 0\n",
    "    for t,w in weights.items():\n",
    "        if sector_mapper[t] == sector:\n",
    "            total_weight += w\n",
    "    print(f\"{sector}: {total_weight:.3f}\")"
   ]
  },
  {
   "cell_type": "markdown",
   "metadata": {},
   "source": [
    "## Maximise return for a given risk, with L2 regularisation\n",
    "\n",
    "Let's imagine that we've put a lot of thought into our risk tolerance, and have decided that we can't accept anything more than 15% volatility. We can use PyPortfolioOpt to construct a portfolio that maximises return for a given risk (with the same caveats about expected returns)."
   ]
  },
  {
   "cell_type": "code",
   "execution_count": 23,
   "metadata": {},
   "outputs": [
    {
     "data": {
      "text/plain": [
       "OrderedDict([('ACN', 0.0),\n",
       "             ('AMZN', 0.18651),\n",
       "             ('COST', 0.1),\n",
       "             ('DIS', 0.0),\n",
       "             ('F', 0.0),\n",
       "             ('GILD', 0.06429),\n",
       "             ('JPM', 0.0),\n",
       "             ('KO', 0.0),\n",
       "             ('LUV', 0.0),\n",
       "             ('MA', 0.4475),\n",
       "             ('MSFT', 0.05),\n",
       "             ('PFE', 0.0),\n",
       "             ('TSLA', 0.15),\n",
       "             ('UNH', 0.0017),\n",
       "             ('XOM', 0.0)])"
      ]
     },
     "execution_count": 23,
     "metadata": {},
     "output_type": "execute_result"
    }
   ],
   "source": [
    "ef = EfficientFrontier(mu, S)\n",
    "ef.add_sector_constraints(sector_mapper, sector_lower, sector_upper)\n",
    "ef.efficient_risk(target_volatility=0.15)\n",
    "weights = ef.clean_weights()\n",
    "weights"
   ]
  },
  {
   "cell_type": "code",
   "execution_count": 24,
   "metadata": {},
   "outputs": [
    {
     "name": "stdout",
     "output_type": "stream",
     "text": [
      "8/15 tickers have zero weight\n"
     ]
    }
   ],
   "source": [
    "num_small = len([k for k in weights if weights[k] <= 1e-4])\n",
    "print(f\"{num_small}/{len(ef.tickers)} tickers have zero weight\")"
   ]
  },
  {
   "cell_type": "code",
   "execution_count": 25,
   "metadata": {},
   "outputs": [
    {
     "name": "stdout",
     "output_type": "stream",
     "text": [
      "Expected annual return: 27.4%\n",
      "Annual volatility: 15.0%\n",
      "Sharpe Ratio: 1.69\n"
     ]
    }
   ],
   "source": [
    "ef.portfolio_performance(verbose=True);"
   ]
  },
  {
   "cell_type": "markdown",
   "metadata": {},
   "source": [
    "While this portfolio seems like it meets our objectives, we might be worried by the fact that a lot of the tickers have been assigned zero weight. In effect, the optimizer is \"overfitting\" to the data you have provided -- you are much more likely to get better results by enforcing some level of diversification. One way of doing this is to use **L2 regularisation** – essentially, adding a penalty on the number of near-zero weights."
   ]
  },
  {
   "cell_type": "code",
   "execution_count": 26,
   "metadata": {},
   "outputs": [
    {
     "data": {
      "text/plain": [
       "OrderedDict([('ACN', 0.04686),\n",
       "             ('AMZN', 0.20405),\n",
       "             ('COST', 0.08833),\n",
       "             ('DIS', 0.01444),\n",
       "             ('F', 0.0),\n",
       "             ('GILD', 0.08317),\n",
       "             ('JPM', 0.04722),\n",
       "             ('KO', 0.01167),\n",
       "             ('LUV', 0.03098),\n",
       "             ('MA', 0.23844),\n",
       "             ('MSFT', 0.05),\n",
       "             ('PFE', 0.0),\n",
       "             ('TSLA', 0.15),\n",
       "             ('UNH', 0.03484),\n",
       "             ('XOM', 0.0)])"
      ]
     },
     "execution_count": 26,
     "metadata": {},
     "output_type": "execute_result"
    }
   ],
   "source": [
    "from pypfopt import objective_functions\n",
    "\n",
    "# You must always create a new efficient frontier object\n",
    "ef = EfficientFrontier(mu, S)\n",
    "ef.add_sector_constraints(sector_mapper, sector_lower, sector_upper)\n",
    "ef.add_objective(objective_functions.L2_reg, gamma=0.1)  # gamme is the tuning parameter\n",
    "ef.efficient_risk(0.15)\n",
    "weights = ef.clean_weights()\n",
    "weights"
   ]
  },
  {
   "cell_type": "code",
   "execution_count": 27,
   "metadata": {},
   "outputs": [
    {
     "name": "stdout",
     "output_type": "stream",
     "text": [
      "3/15 tickers have zero weight\n"
     ]
    }
   ],
   "source": [
    "num_small = len([k for k in weights if weights[k] <= 1e-4])\n",
    "print(f\"{num_small}/{len(ef.tickers)} tickers have zero weight\")"
   ]
  },
  {
   "cell_type": "markdown",
   "metadata": {},
   "source": [
    "We can tune the value of gamma to choose the number of nonzero tickers. Larger gamma pulls portfolio weights towards an equal allocation."
   ]
  },
  {
   "cell_type": "code",
   "execution_count": 28,
   "metadata": {},
   "outputs": [
    {
     "data": {
      "text/plain": [
       "OrderedDict([('ACN', 0.05544),\n",
       "             ('AMZN', 0.12964),\n",
       "             ('COST', 0.06145),\n",
       "             ('DIS', 0.0637),\n",
       "             ('F', 0.06104),\n",
       "             ('GILD', 0.07931),\n",
       "             ('JPM', 0.07798),\n",
       "             ('KO', 0.03855),\n",
       "             ('LUV', 0.06539),\n",
       "             ('MA', 0.08208),\n",
       "             ('MSFT', 0.07097),\n",
       "             ('PFE', 0.04087),\n",
       "             ('TSLA', 0.08896),\n",
       "             ('UNH', 0.06218),\n",
       "             ('XOM', 0.02244)])"
      ]
     },
     "execution_count": 28,
     "metadata": {},
     "output_type": "execute_result"
    }
   ],
   "source": [
    "ef = EfficientFrontier(mu, S)\n",
    "ef.add_sector_constraints(sector_mapper, sector_lower, sector_upper)\n",
    "ef.add_objective(objective_functions.L2_reg, gamma=1)  # gamme is the tuning parameter\n",
    "ef.efficient_risk(0.15)\n",
    "weights = ef.clean_weights()\n",
    "weights"
   ]
  },
  {
   "cell_type": "code",
   "execution_count": 29,
   "metadata": {},
   "outputs": [
    {
     "name": "stderr",
     "output_type": "stream",
     "text": [
      "C:\\ProgramData\\Anaconda3\\lib\\site-packages\\pandas\\plotting\\_matplotlib\\core.py:1616: MatplotlibDeprecationWarning: normalize=None does not normalize if the sum is less than 1 but this behavior is deprecated since 3.3 until two minor releases later. After the deprecation period the default value will be normalize=True. To prevent normalization pass normalize=False \n",
      "  results = ax.pie(y, labels=blabels, **kwds)\n"
     ]
    },
    {
     "data": {
      "image/png": "[encoded data removed]",
      "text/plain": [
       "<Figure size 720x720 with 1 Axes>"
      ]
     },
     "metadata": {},
     "output_type": "display_data"
    }
   ],
   "source": [
    "pd.Series(weights).plot.pie(figsize=(10, 10));"
   ]
  },
  {
   "cell_type": "code",
   "execution_count": 30,
   "metadata": {},
   "outputs": [
    {
     "name": "stdout",
     "output_type": "stream",
     "text": [
      "Expected annual return: 24.6%\n",
      "Annual volatility: 14.8%\n",
      "Sharpe Ratio: 1.53\n"
     ]
    }
   ],
   "source": [
    "ef.portfolio_performance(verbose=True);"
   ]
  },
  {
   "cell_type": "markdown",
   "metadata": {},
   "source": [
    "The resulting portfolio still has a volatility of less than our 15% limit. It's in-sample Sharpe ratio has gone down, but this portfolio is a lot more robust for actual investment."
   ]
  },
  {
   "cell_type": "markdown",
   "metadata": {},
   "source": [
    "## Minimise risk for a given return, market-neutral\n",
    "\n",
    "We may instead be in the situation where we have a certain required rate of return (maybe we are a pension fund that needs 7% return a year), but would like to minimise risk. Additionally, suppose we would like our portfolio to be market neutral, in the sense that it is equally exposed to the long and short sides.  "
   ]
  },
  {
   "cell_type": "code",
   "execution_count": 31,
   "metadata": {},
   "outputs": [
    {
     "data": {
      "text/plain": [
       "OrderedDict([('ACN', -0.03784),\n",
       "             ('AMZN', 0.22073),\n",
       "             ('COST', -0.06108),\n",
       "             ('DIS', -0.00219),\n",
       "             ('F', -0.00295),\n",
       "             ('GILD', 0.04768),\n",
       "             ('JPM', 0.04734),\n",
       "             ('KO', -0.1416),\n",
       "             ('LUV', 0.00143),\n",
       "             ('MA', 0.06317),\n",
       "             ('MSFT', 0.02031),\n",
       "             ('PFE', -0.08602),\n",
       "             ('TSLA', 0.0963),\n",
       "             ('UNH', -0.00939),\n",
       "             ('XOM', -0.15589)])"
      ]
     },
     "execution_count": 31,
     "metadata": {},
     "output_type": "execute_result"
    }
   ],
   "source": [
    "# Must have no weight bounds to allow shorts\n",
    "ef = EfficientFrontier(mu, S, weight_bounds=(None, None))\n",
    "ef.add_objective(objective_functions.L2_reg)\n",
    "ef.efficient_return(target_return=0.07, market_neutral=True)\n",
    "weights = ef.clean_weights()\n",
    "weights"
   ]
  },
  {
   "cell_type": "code",
   "execution_count": 32,
   "metadata": {},
   "outputs": [
    {
     "name": "stdout",
     "output_type": "stream",
     "text": [
      "Expected annual return: 7.0%\n",
      "Annual volatility: 10.7%\n",
      "Sharpe Ratio: 0.47\n"
     ]
    }
   ],
   "source": [
    "ef.portfolio_performance(verbose=True);"
   ]
  },
  {
   "cell_type": "code",
   "execution_count": 33,
   "metadata": {},
   "outputs": [
    {
     "data": {
      "image/png": "[encoded data removed]",
      "text/plain": [
       "<Figure size 720x432 with 1 Axes>"
      ]
     },
     "metadata": {
      "needs_background": "light"
     },
     "output_type": "display_data"
    }
   ],
   "source": [
    "pd.Series(weights).plot.barh(figsize=(10,6));"
   ]
  },
  {
   "cell_type": "code",
   "execution_count": 34,
   "metadata": {},
   "outputs": [
    {
     "name": "stdout",
     "output_type": "stream",
     "text": [
      "Net weight: -0.00\n"
     ]
    }
   ],
   "source": [
    "print(f\"Net weight: {sum(weights.values()):.2f}\")"
   ]
  },
  {
   "cell_type": "markdown",
   "metadata": {},
   "source": [
    "## Efficient semi-variance optimization\n",
    "\n",
    "In this example, we will minimise the portfolio semivariance (i.e downside volatility) subject to a return constraint (target 20%).\n",
    "\n",
    "There are actually two ways of doing this in PyPortfolioOpt. The first is the \"intuitive\" way. We compute a semicovariance matrix, and pass this into `EfficientFrontier` (just like we would do for the exponential cov matrix or the Ledoit-Wolf shrunk matrix)."
   ]
  },
  {
   "cell_type": "code",
   "execution_count": 35,
   "metadata": {},
   "outputs": [
    {
     "data": {
      "image/png": "[encoded data removed]",
      "text/plain": [
       "<Figure size 432x288 with 2 Axes>"
      ]
     },
     "metadata": {
      "needs_background": "light"
     },
     "output_type": "display_data"
    }
   ],
   "source": [
    "semicov = risk_models.semicovariance(prices, benchmark=0)\n",
    "plotting.plot_covariance(semicov);"
   ]
  },
  {
   "cell_type": "code",
   "execution_count": 36,
   "metadata": {},
   "outputs": [
    {
     "data": {
      "text/plain": [
       "OrderedDict([('ACN', 0.25795),\n",
       "             ('AMZN', 0.0),\n",
       "             ('COST', 0.08926),\n",
       "             ('DIS', 0.0),\n",
       "             ('F', 0.0),\n",
       "             ('GILD', 0.00994),\n",
       "             ('JPM', 0.0),\n",
       "             ('KO', 0.13368),\n",
       "             ('LUV', 0.0),\n",
       "             ('MA', 0.30865),\n",
       "             ('MSFT', 0.0),\n",
       "             ('PFE', 0.04825),\n",
       "             ('TSLA', 0.1423),\n",
       "             ('UNH', 0.0),\n",
       "             ('XOM', 0.00997)])"
      ]
     },
     "execution_count": 36,
     "metadata": {},
     "output_type": "execute_result"
    }
   ],
   "source": [
    "ef = EfficientFrontier(mu, semicov)\n",
    "ef.efficient_return(0.2)\n",
    "weights = ef.clean_weights()\n",
    "weights\n"
   ]
  },
  {
   "cell_type": "code",
   "execution_count": 37,
   "metadata": {},
   "outputs": [
    {
     "name": "stdout",
     "output_type": "stream",
     "text": [
      "Expected annual return: 22.4%\n",
      "Annual volatility: 9.0%\n",
      "Sharpe Ratio: 2.28\n"
     ]
    }
   ],
   "source": [
    "ef.portfolio_performance(verbose=True);"
   ]
  },
  {
   "cell_type": "markdown",
   "metadata": {},
   "source": [
    "However, this solution is not truly optimal in mean-semivariance space. To do the optimization properly, we must use the `EfficientSemivariance` class. This requires us to first compute the returns and drop NaNs."
   ]
  },
  {
   "cell_type": "code",
   "execution_count": 38,
   "metadata": {},
   "outputs": [],
   "source": [
    "returns = expected_returns.returns_from_prices(prices)\n",
    "returns = returns.dropna()"
   ]
  },
  {
   "cell_type": "code",
   "execution_count": 39,
   "metadata": {},
   "outputs": [
    {
     "name": "stdout",
     "output_type": "stream",
     "text": [
      "Expected annual return: 20.0%\n",
      "Annual semi-deviation: 10.1%\n",
      "Sortino Ratio: 1.78\n"
     ]
    }
   ],
   "source": [
    "from pypfopt import EfficientSemivariance\n",
    "\n",
    "es = EfficientSemivariance(mu, returns)\n",
    "es.efficient_return(0.2)\n",
    "es.portfolio_performance(verbose=True);\n"
   ]
  },
  {
   "cell_type": "markdown",
   "metadata": {},
   "source": [
    "To compare this with the heuristic solution, I will use a quick hack: replacing the `es.weights` with `es.weights` and running `es.portfolio_performance` again. Please don't be encouraged to do this in real life!"
   ]
  },
  {
   "cell_type": "code",
   "execution_count": 40,
   "metadata": {},
   "outputs": [
    {
     "name": "stdout",
     "output_type": "stream",
     "text": [
      "Expected annual return: 22.4%\n",
      "Annual semi-deviation: 14.0%\n",
      "Sortino Ratio: 1.46\n"
     ]
    }
   ],
   "source": [
    "es.weights = ef.weights\n",
    "es.portfolio_performance(verbose=True);"
   ]
  },
  {
   "cell_type": "markdown",
   "metadata": {},
   "source": [
    "We see that the heuristic method has a significantly lower Sortino ratio, and much higher semivariance."
   ]
  },
  {
   "cell_type": "markdown",
   "metadata": {},
   "source": [
    "## Efficient CVaR optimization\n",
    "\n",
    "In this example, we will find the portfolio that maximises return subject to a CVaR constraint.\n",
    "\n",
    "Before doing this, let's first compute the 95%-CVaR for the max-sharpe portfolio."
   ]
  },
  {
   "cell_type": "code",
   "execution_count": 41,
   "metadata": {},
   "outputs": [
    {
     "data": {
      "text/html": [
       "<div>\n",
       "<style scoped>\n",
       "    .dataframe tbody tr th:only-of-type {\n",
       "        vertical-align: middle;\n",
       "    }\n",
       "\n",
       "    .dataframe tbody tr th {\n",
       "        vertical-align: top;\n",
       "    }\n",
       "\n",
       "    .dataframe thead th {\n",
       "        text-align: right;\n",
       "    }\n",
       "</style>\n",
       "<table border=\"1\" class=\"dataframe\">\n",
       "  <thead>\n",
       "    <tr style=\"text-align: right;\">\n",
       "      <th></th>\n",
       "      <th>ACN</th>\n",
       "      <th>AMZN</th>\n",
       "      <th>COST</th>\n",
       "      <th>DIS</th>\n",
       "      <th>F</th>\n",
       "      <th>GILD</th>\n",
       "      <th>JPM</th>\n",
       "      <th>KO</th>\n",
       "      <th>LUV</th>\n",
       "      <th>MA</th>\n",
       "      <th>MSFT</th>\n",
       "      <th>PFE</th>\n",
       "      <th>TSLA</th>\n",
       "      <th>UNH</th>\n",
       "      <th>XOM</th>\n",
       "    </tr>\n",
       "    <tr>\n",
       "      <th>Date</th>\n",
       "      <th></th>\n",
       "      <th></th>\n",
       "      <th></th>\n",
       "      <th></th>\n",
       "      <th></th>\n",
       "      <th></th>\n",
       "      <th></th>\n",
       "      <th></th>\n",
       "      <th></th>\n",
       "      <th></th>\n",
       "      <th></th>\n",
       "      <th></th>\n",
       "      <th></th>\n",
       "      <th></th>\n",
       "      <th></th>\n",
       "    </tr>\n",
       "  </thead>\n",
       "  <tbody>\n",
       "    <tr>\n",
       "      <th>2010-06-30</th>\n",
       "      <td>0.000000</td>\n",
       "      <td>0.005985</td>\n",
       "      <td>-0.014381</td>\n",
       "      <td>-0.024768</td>\n",
       "      <td>0.020243</td>\n",
       "      <td>-0.019731</td>\n",
       "      <td>-0.012142</td>\n",
       "      <td>-0.004172</td>\n",
       "      <td>0.000000</td>\n",
       "      <td>-0.017045</td>\n",
       "      <td>-0.012870</td>\n",
       "      <td>-0.001400</td>\n",
       "      <td>-0.002512</td>\n",
       "      <td>-0.008034</td>\n",
       "      <td>-0.003840</td>\n",
       "    </tr>\n",
       "    <tr>\n",
       "      <th>2010-07-01</th>\n",
       "      <td>-0.009573</td>\n",
       "      <td>0.015559</td>\n",
       "      <td>0.001276</td>\n",
       "      <td>-0.000317</td>\n",
       "      <td>0.048611</td>\n",
       "      <td>-0.004084</td>\n",
       "      <td>-0.013129</td>\n",
       "      <td>-0.001796</td>\n",
       "      <td>-0.010802</td>\n",
       "      <td>0.016652</td>\n",
       "      <td>0.006518</td>\n",
       "      <td>-0.002104</td>\n",
       "      <td>-0.078472</td>\n",
       "      <td>-0.019366</td>\n",
       "      <td>-0.008060</td>\n",
       "    </tr>\n",
       "    <tr>\n",
       "      <th>2010-07-02</th>\n",
       "      <td>-0.008882</td>\n",
       "      <td>-0.016402</td>\n",
       "      <td>-0.012204</td>\n",
       "      <td>-0.003493</td>\n",
       "      <td>-0.027436</td>\n",
       "      <td>0.021383</td>\n",
       "      <td>-0.006929</td>\n",
       "      <td>0.000400</td>\n",
       "      <td>-0.021838</td>\n",
       "      <td>0.000345</td>\n",
       "      <td>0.004750</td>\n",
       "      <td>-0.006324</td>\n",
       "      <td>-0.125683</td>\n",
       "      <td>0.016158</td>\n",
       "      <td>-0.000707</td>\n",
       "    </tr>\n",
       "    <tr>\n",
       "      <th>2010-07-06</th>\n",
       "      <td>0.012388</td>\n",
       "      <td>0.008430</td>\n",
       "      <td>-0.004241</td>\n",
       "      <td>0.010835</td>\n",
       "      <td>-0.011673</td>\n",
       "      <td>-0.002868</td>\n",
       "      <td>0.013955</td>\n",
       "      <td>0.007592</td>\n",
       "      <td>-0.011163</td>\n",
       "      <td>-0.013513</td>\n",
       "      <td>0.023636</td>\n",
       "      <td>0.010608</td>\n",
       "      <td>-0.160938</td>\n",
       "      <td>0.020848</td>\n",
       "      <td>0.015733</td>\n",
       "    </tr>\n",
       "    <tr>\n",
       "      <th>2010-07-07</th>\n",
       "      <td>0.022130</td>\n",
       "      <td>0.030620</td>\n",
       "      <td>0.005370</td>\n",
       "      <td>0.044767</td>\n",
       "      <td>0.042323</td>\n",
       "      <td>0.004889</td>\n",
       "      <td>0.050096</td>\n",
       "      <td>0.020623</td>\n",
       "      <td>0.062088</td>\n",
       "      <td>0.037694</td>\n",
       "      <td>0.020151</td>\n",
       "      <td>0.023093</td>\n",
       "      <td>-0.019243</td>\n",
       "      <td>0.010730</td>\n",
       "      <td>0.016881</td>\n",
       "    </tr>\n",
       "  </tbody>\n",
       "</table>\n",
       "</div>"
      ],
      "text/plain": [
       "                 ACN      AMZN      COST       DIS         F      GILD  \\\n",
       "Date                                                                     \n",
       "2010-06-30  0.000000  0.005985 -0.014381 -0.024768  0.020243 -0.019731   \n",
       "2010-07-01 -0.009573  0.015559  0.001276 -0.000317  0.048611 -0.004084   \n",
       "2010-07-02 -0.008882 -0.016402 -0.012204 -0.003493 -0.027436  0.021383   \n",
       "2010-07-06  0.012388  0.008430 -0.004241  0.010835 -0.011673 -0.002868   \n",
       "2010-07-07  0.022130  0.030620  0.005370  0.044767  0.042323  0.004889   \n",
       "\n",
       "                 JPM        KO       LUV        MA      MSFT       PFE  \\\n",
       "Date                                                                     \n",
       "2010-06-30 -0.012142 -0.004172  0.000000 -0.017045 -0.012870 -0.001400   \n",
       "2010-07-01 -0.013129 -0.001796 -0.010802  0.016652  0.006518 -0.002104   \n",
       "2010-07-02 -0.006929  0.000400 -0.021838  0.000345  0.004750 -0.006324   \n",
       "2010-07-06  0.013955  0.007592 -0.011163 -0.013513  0.023636  0.010608   \n",
       "2010-07-07  0.050096  0.020623  0.062088  0.037694  0.020151  0.023093   \n",
       "\n",
       "                TSLA       UNH       XOM  \n",
       "Date                                      \n",
       "2010-06-30 -0.002512 -0.008034 -0.003840  \n",
       "2010-07-01 -0.078472 -0.019366 -0.008060  \n",
       "2010-07-02 -0.125683  0.016158 -0.000707  \n",
       "2010-07-06 -0.160938  0.020848  0.015733  \n",
       "2010-07-07 -0.019243  0.010730  0.016881  "
      ]
     },
     "execution_count": 41,
     "metadata": {},
     "output_type": "execute_result"
    }
   ],
   "source": [
    "returns = expected_returns.returns_from_prices(prices).dropna()\n",
    "returns.head()"
   ]
  },
  {
   "cell_type": "code",
   "execution_count": 42,
   "metadata": {},
   "outputs": [
    {
     "name": "stdout",
     "output_type": "stream",
     "text": [
      "Expected annual return: 25.3%\n",
      "Annual volatility: 12.9%\n",
      "Sharpe Ratio: 1.80\n"
     ]
    }
   ],
   "source": [
    "ef = EfficientFrontier(mu, S)\n",
    "ef.max_sharpe()\n",
    "weight_arr = ef.weights\n",
    "ef.portfolio_performance(verbose=True);"
   ]
  },
  {
   "cell_type": "code",
   "execution_count": 43,
   "metadata": {},
   "outputs": [
    {
     "data": {
      "image/png": "[encoded data removed]",
      "text/plain": [
       "<Figure size 432x288 with 1 Axes>"
      ]
     },
     "metadata": {
      "needs_background": "light"
     },
     "output_type": "display_data"
    }
   ],
   "source": [
    "# Compute CVaR\n",
    "portfolio_rets = (returns * weight_arr).sum(axis=1)\n",
    "portfolio_rets.hist(bins=50);"
   ]
  },
  {
   "cell_type": "code",
   "execution_count": 44,
   "metadata": {},
   "outputs": [
    {
     "name": "stdout",
     "output_type": "stream",
     "text": [
      "VaR: -2.14%\n",
      "CVaR: -3.24%\n"
     ]
    }
   ],
   "source": [
    "# VaR\n",
    "var = portfolio_rets.quantile(0.05)\n",
    "cvar = portfolio_rets[portfolio_rets <= var].mean()\n",
    "print(\"VaR: {:.2f}%\".format(100*var))\n",
    "print(\"CVaR: {:.2f}%\".format(100*cvar))"
   ]
  },
  {
   "cell_type": "markdown",
   "metadata": {},
   "source": [
    "This value of the CVaR means that our average loss on the worst 5% of days will be -3.35%. Let's say that this were beyond our comfort zone (for a \\\\$100,000 portfolio, this would mean losing \\\\$3350 in a day).\n",
    "\n",
    "Let's firstly construct the portfolio with the minimum CVaR:"
   ]
  },
  {
   "cell_type": "code",
   "execution_count": 45,
   "metadata": {},
   "outputs": [
    {
     "name": "stdout",
     "output_type": "stream",
     "text": [
      "Expected annual return: 18.0%\n",
      "Conditional Value at Risk: 2.10%\n"
     ]
    }
   ],
   "source": [
    "from pypfopt import EfficientCVaR\n",
    "\n",
    "ec = EfficientCVaR(mu, returns)\n",
    "ec.min_cvar()\n",
    "ec.portfolio_performance(verbose=True);"
   ]
  },
  {
   "cell_type": "markdown",
   "metadata": {},
   "source": [
    "We have significantly reduced the CVaR, but at the cost of a large reduction in returns. We can use `efficient_risk` to maximise the return for a target risk. Let's say that a 2.5% CVaR is acceptable."
   ]
  },
  {
   "cell_type": "code",
   "execution_count": 46,
   "metadata": {},
   "outputs": [
    {
     "name": "stdout",
     "output_type": "stream",
     "text": [
      "Expected annual return: 24.9%\n",
      "Conditional Value at Risk: 2.50%\n"
     ]
    }
   ],
   "source": [
    "from pypfopt import EfficientCVaR\n",
    "\n",
    "ec = EfficientCVaR(mu, returns)\n",
    "ec.efficient_risk(target_cvar=0.025)\n",
    "ec.portfolio_performance(verbose=True);"
   ]
  },
  {
   "cell_type": "markdown",
   "metadata": {},
   "source": [
    "We now have similar returns to before (24.7% vs 25.8%), but with a lower tail risk (2.50% CVaR vs 3.35%). "
   ]
  },
  {
   "cell_type": "markdown",
   "metadata": {},
   "source": [
    "## Plotting - Unconstrained\n",
    "\n",
    "To plot the unconstrained efficient frontier, it is easiest to use the critical line algorithm. "
   ]
  },
  {
   "cell_type": "code",
   "execution_count": 47,
   "metadata": {},
   "outputs": [
    {
     "name": "stdout",
     "output_type": "stream",
     "text": [
      "Expected annual return: 25.0%\n",
      "Annual volatility: 12.8%\n",
      "Sharpe Ratio: 1.80\n"
     ]
    }
   ],
   "source": [
    "from pypfopt import CLA, plotting\n",
    "\n",
    "cla = CLA(mu, S)\n",
    "cla.max_sharpe()\n",
    "cla.portfolio_performance(verbose=True);"
   ]
  },
  {
   "cell_type": "code",
   "execution_count": 48,
   "metadata": {},
   "outputs": [
    {
     "data": {
      "image/png": "[encoded data removed]",
      "text/plain": [
       "<Figure size 432x288 with 1 Axes>"
      ]
     },
     "metadata": {
      "needs_background": "light"
     },
     "output_type": "display_data"
    }
   ],
   "source": [
    "ax = plotting.plot_efficient_frontier(cla, showfig=False)"
   ]
  },
  {
   "cell_type": "markdown",
   "metadata": {},
   "source": [
    "## Plotting - Constrained"
   ]
  },
  {
   "cell_type": "markdown",
   "metadata": {},
   "source": [
    "In this example, we will plot the efficient frontier corresponding to portfolios with a constraint on exposure to MSFT, AMZN, and TSLA (e.g maybe we want to avoid big tech)."
   ]
  },
  {
   "cell_type": "code",
   "execution_count": 49,
   "metadata": {},
   "outputs": [],
   "source": [
    "import cvxpy as cp\n",
    "\n",
    "mu = expected_returns.capm_return(prices)\n",
    "S = risk_models.CovarianceShrinkage(prices).ledoit_wolf()\n",
    "\n",
    "ef = EfficientFrontier(mu, S,)\n",
    "big_tech_indices = [t in {\"MSFT\", \"AMZN\", \"TSLA\"} for t in tickers]\n",
    "ef.add_constraint(lambda w: cp.sum(w[big_tech_indices]) <= 0.3)"
   ]
  },
  {
   "cell_type": "markdown",
   "metadata": {},
   "source": [
    "As per the docs, *before* we call any optimization function, we should pass this to the plotting module:"
   ]
  },
  {
   "cell_type": "code",
   "execution_count": 50,
   "metadata": {},
   "outputs": [
    {
     "data": {
      "image/png": "[encoded data removed]",
      "text/plain": [
       "<Figure size 432x288 with 1 Axes>"
      ]
     },
     "metadata": {
      "needs_background": "light"
     },
     "output_type": "display_data"
    }
   ],
   "source": [
    "ax = plotting.plot_efficient_frontier(ef, ef_param=\"risk\", \n",
    "                                      ef_param_range=np.linspace(0.12, 0.4, 50), \n",
    "                                      showfig=False);"
   ]
  },
  {
   "cell_type": "markdown",
   "metadata": {},
   "source": [
    "## Complex plots\n",
    "\n",
    "The `plotting` module allows you to pass in an `ax`, on top of which the plots are added. This allows you to build complex plots. \n",
    "\n",
    "In this example, we will plot the efficient frontier as well as 10,000 simulated portfolios. \n",
    "\n",
    "To generate the simulated portfolios, we will sample random weights from the Dirichlet distribution (these are already normalised):"
   ]
  },
  {
   "cell_type": "code",
   "execution_count": 51,
   "metadata": {},
   "outputs": [
    {
     "name": "stdout",
     "output_type": "stream",
     "text": [
      "Sample portfolio returns: [0.21891073 0.22847564 0.21704388 ... 0.22959791 0.22580904 0.23131333]\n",
      "Sample portfolio volatilities: 0       0.159760\n",
      "1       0.159014\n",
      "2       0.163362\n",
      "3       0.157070\n",
      "4       0.170330\n",
      "          ...   \n",
      "9995    0.148336\n",
      "9996    0.144783\n",
      "9997    0.151283\n",
      "9998    0.145519\n",
      "9999    0.145151\n",
      "Length: 10000, dtype: float64\n"
     ]
    }
   ],
   "source": [
    "n_samples = 10000\n",
    "w = np.random.dirichlet(np.ones(len(mu)), n_samples)\n",
    "rets = w.dot(mu)\n",
    "stds = np.sqrt((w.T * (S @ w.T)).sum(axis=0))\n",
    "sharpes = rets / stds\n",
    "\n",
    "print(\"Sample portfolio returns:\", rets)\n",
    "print(\"Sample portfolio volatilities:\", stds)"
   ]
  },
  {
   "cell_type": "markdown",
   "metadata": {},
   "source": [
    "Note that the above code is equivalent to generating samples via a for loop (just more efficient)"
   ]
  },
  {
   "cell_type": "code",
   "execution_count": 52,
   "metadata": {},
   "outputs": [],
   "source": [
    "# mus = []\n",
    "# stds = []\n",
    "# sharpes = []\n",
    "# for _ in range(10000):\n",
    "#     w = np.random.dirichlet(np.ones(len(mu)))\n",
    "#     # w = np.random.rand(len(mu))\n",
    "#     # w /= w.sum()\n",
    "#     ret = mu.dot(w)\n",
    "#     std = np.sqrt(w.dot(S @ w))\n",
    "#     mus.append(ret)\n",
    "#     stds.append(std)\n",
    "#     sharpes.append(ret / std)"
   ]
  },
  {
   "cell_type": "code",
   "execution_count": 56,
   "metadata": {},
   "outputs": [
    {
     "data": {
      "image/png": "[encoded data removed]",
      "text/plain": [
       "<Figure size 432x288 with 1 Axes>"
      ]
     },
     "metadata": {
      "needs_background": "light"
     },
     "output_type": "display_data"
    }
   ],
   "source": [
    "# Plot efficient frontier with Monte Carlo sim\n",
    "ef = EfficientFrontier(mu, S)\n",
    "\n",
    "fig, ax = plt.subplots()\n",
    "plotting.plot_efficient_frontier(ef, ax=ax, show_assets=False)\n",
    "\n",
    "# Find and plot the tangency portfolio\n",
    "ef2 = EfficientFrontier(mu, S)\n",
    "ef2.max_sharpe()\n",
    "ret_tangent, std_tangent, _ = ef2.portfolio_performance()\n",
    "ax.scatter(std_tangent, ret_tangent, marker=\"*\", s=100, c=\"r\", label=\"Max Sharpe\")\n",
    "\n",
    "# Plot random portfolios\n",
    "ax.scatter(stds, rets, marker=\".\", c=sharpes, cmap=\"viridis_r\")\n",
    "\n",
    "# Format\n",
    "ax.set_title(\"Efficient Frontier with random portfolios\")\n",
    "ax.legend()\n",
    "plt.tight_layout()\n",
    "plt.show()\n"
   ]
  },
  {
   "cell_type": "code",
   "execution_count": null,
   "metadata": {},
   "outputs": [],
   "source": []
  }
 ],
 "metadata": {
  "kernelspec": {
   "display_name": "Python 3 (ipykernel)",
   "language": "python",
   "name": "python3"
  },
  "language_info": {
   "codemirror_mode": {
    "name": "ipython",
    "version": 3
   },
   "file_extension": ".py",
   "mimetype": "text/x-python",
   "name": "python",
   "nbconvert_exporter": "python",
   "pygments_lexer": "ipython3",
   "version": "3.9.12"
  }
 },
 "nbformat": 4,
 "nbformat_minor": 4
}
