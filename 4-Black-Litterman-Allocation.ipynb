{
 "cells": [
  {
   "cell_type": "markdown",
   "metadata": {},
   "source": [
    "# Black-Litterman allocation\n",
    "\n",
    "The Black-Litterman method is a very powerful way of converting your views on asset returns, along with your uncertainty in these views, into a portfolio.\n",
    "\n",
    "For a description of the theory, please read the [documentation page](https://pyportfolioopt.readthedocs.io/en/latest/BlackLitterman.html) and the links therein.\n",
    "\n",
    "In this recipe, we will cover:\n",
    "\n",
    "- Downloading data for the Black-Litterman method\n",
    "- Constructing the prior return vector based on market equilibrium\n",
    "- Two ways of constructing the uncertainty matrix\n",
    "- Combining Black-Litterman with mean-variance optimization\n",
    "\n",
    "## Downloading data\n",
    "\n",
    "In addition to price data, constructing a market prior requires market-caps. "
   ]
  },
  {
   "cell_type": "code",
   "execution_count": 1,
   "metadata": {},
   "outputs": [],
   "source": [
    "import numpy as np\n",
    "import pandas as pd\n",
    "import matplotlib.pyplot as plt\n",
    "import yfinance as yf"
   ]
  },
  {
   "cell_type": "code",
   "execution_count": 2,
   "metadata": {},
   "outputs": [],
   "source": [
    "tickers = [\"MSFT\", \"AMZN\", \"NAT\", \"BAC\", \"DPZ\", \"DIS\", \"KO\", \"MCD\", \"COST\", \"SBUX\"]"
   ]
  },
  {
   "cell_type": "code",
   "execution_count": 3,
   "metadata": {},
   "outputs": [
    {
     "name": "stdout",
     "output_type": "stream",
     "text": [
      "[*********************100%***********************]  10 of 10 completed\n"
     ]
    },
    {
     "data": {
      "text/html": [
       "<div>\n",
       "<style scoped>\n",
       "    .dataframe tbody tr th:only-of-type {\n",
       "        vertical-align: middle;\n",
       "    }\n",
       "\n",
       "    .dataframe tbody tr th {\n",
       "        vertical-align: top;\n",
       "    }\n",
       "\n",
       "    .dataframe thead th {\n",
       "        text-align: right;\n",
       "    }\n",
       "</style>\n",
       "<table border=\"1\" class=\"dataframe\">\n",
       "  <thead>\n",
       "    <tr style=\"text-align: right;\">\n",
       "      <th></th>\n",
       "      <th>AMZN</th>\n",
       "      <th>BAC</th>\n",
       "      <th>COST</th>\n",
       "      <th>DIS</th>\n",
       "      <th>DPZ</th>\n",
       "      <th>KO</th>\n",
       "      <th>MCD</th>\n",
       "      <th>MSFT</th>\n",
       "      <th>NAT</th>\n",
       "      <th>SBUX</th>\n",
       "    </tr>\n",
       "    <tr>\n",
       "      <th>Date</th>\n",
       "      <th></th>\n",
       "      <th></th>\n",
       "      <th></th>\n",
       "      <th></th>\n",
       "      <th></th>\n",
       "      <th></th>\n",
       "      <th></th>\n",
       "      <th></th>\n",
       "      <th></th>\n",
       "      <th></th>\n",
       "    </tr>\n",
       "  </thead>\n",
       "  <tbody>\n",
       "    <tr>\n",
       "      <th>2022-02-08</th>\n",
       "      <td>3228.270020</td>\n",
       "      <td>49.380001</td>\n",
       "      <td>521.150024</td>\n",
       "      <td>142.479996</td>\n",
       "      <td>438.730011</td>\n",
       "      <td>62.000000</td>\n",
       "      <td>260.079987</td>\n",
       "      <td>304.559998</td>\n",
       "      <td>1.41</td>\n",
       "      <td>94.441147</td>\n",
       "    </tr>\n",
       "    <tr>\n",
       "      <th>2022-02-09</th>\n",
       "      <td>3223.790039</td>\n",
       "      <td>49.279999</td>\n",
       "      <td>528.830017</td>\n",
       "      <td>147.229996</td>\n",
       "      <td>444.760010</td>\n",
       "      <td>61.040001</td>\n",
       "      <td>259.859985</td>\n",
       "      <td>311.209991</td>\n",
       "      <td>1.49</td>\n",
       "      <td>96.639999</td>\n",
       "    </tr>\n",
       "    <tr>\n",
       "      <th>2022-02-10</th>\n",
       "      <td>3180.070068</td>\n",
       "      <td>49.049999</td>\n",
       "      <td>518.479980</td>\n",
       "      <td>152.160004</td>\n",
       "      <td>438.579987</td>\n",
       "      <td>61.380001</td>\n",
       "      <td>256.869995</td>\n",
       "      <td>302.380005</td>\n",
       "      <td>1.49</td>\n",
       "      <td>95.309998</td>\n",
       "    </tr>\n",
       "    <tr>\n",
       "      <th>2022-02-11</th>\n",
       "      <td>3065.870117</td>\n",
       "      <td>47.919998</td>\n",
       "      <td>509.670013</td>\n",
       "      <td>149.470001</td>\n",
       "      <td>431.519989</td>\n",
       "      <td>60.290001</td>\n",
       "      <td>255.160004</td>\n",
       "      <td>295.040009</td>\n",
       "      <td>1.55</td>\n",
       "      <td>93.730003</td>\n",
       "    </tr>\n",
       "    <tr>\n",
       "      <th>2022-02-14</th>\n",
       "      <td>3101.780029</td>\n",
       "      <td>47.020000</td>\n",
       "      <td>502.000000</td>\n",
       "      <td>150.964996</td>\n",
       "      <td>426.440002</td>\n",
       "      <td>60.389999</td>\n",
       "      <td>251.830002</td>\n",
       "      <td>292.260010</td>\n",
       "      <td>1.50</td>\n",
       "      <td>92.639999</td>\n",
       "    </tr>\n",
       "  </tbody>\n",
       "</table>\n",
       "</div>"
      ],
      "text/plain": [
       "                   AMZN        BAC        COST         DIS         DPZ  \\\n",
       "Date                                                                     \n",
       "2022-02-08  3228.270020  49.380001  521.150024  142.479996  438.730011   \n",
       "2022-02-09  3223.790039  49.279999  528.830017  147.229996  444.760010   \n",
       "2022-02-10  3180.070068  49.049999  518.479980  152.160004  438.579987   \n",
       "2022-02-11  3065.870117  47.919998  509.670013  149.470001  431.519989   \n",
       "2022-02-14  3101.780029  47.020000  502.000000  150.964996  426.440002   \n",
       "\n",
       "                   KO         MCD        MSFT   NAT       SBUX  \n",
       "Date                                                            \n",
       "2022-02-08  62.000000  260.079987  304.559998  1.41  94.441147  \n",
       "2022-02-09  61.040001  259.859985  311.209991  1.49  96.639999  \n",
       "2022-02-10  61.380001  256.869995  302.380005  1.49  95.309998  \n",
       "2022-02-11  60.290001  255.160004  295.040009  1.55  93.730003  \n",
       "2022-02-14  60.389999  251.830002  292.260010  1.50  92.639999  "
      ]
     },
     "execution_count": 3,
     "metadata": {},
     "output_type": "execute_result"
    }
   ],
   "source": [
    "ohlc = yf.download(tickers, period=\"max\")\n",
    "prices = ohlc[\"Adj Close\"]\n",
    "prices.tail()"
   ]
  },
  {
   "cell_type": "code",
   "execution_count": 4,
   "metadata": {},
   "outputs": [
    {
     "name": "stdout",
     "output_type": "stream",
     "text": [
      "[*********************100%***********************]  1 of 1 completed\n"
     ]
    },
    {
     "data": {
      "text/plain": [
       "Date\n",
       "1993-01-29    25.627350\n",
       "1993-02-01    25.809624\n",
       "1993-02-02    25.864305\n",
       "1993-02-03    26.137707\n",
       "1993-02-04    26.247072\n",
       "Name: Adj Close, dtype: float64"
      ]
     },
     "execution_count": 4,
     "metadata": {},
     "output_type": "execute_result"
    }
   ],
   "source": [
    "market_prices = yf.download(\"SPY\", period=\"max\")[\"Adj Close\"]\n",
    "market_prices.head()"
   ]
  },
  {
   "cell_type": "code",
   "execution_count": 5,
   "metadata": {},
   "outputs": [
    {
     "data": {
      "text/plain": [
       "{'MSFT': 2191709962240,\n",
       " 'AMZN': 1579757076480,\n",
       " 'NAT': 271291488,\n",
       " 'BAC': 379575631872,\n",
       " 'DPZ': 15505486848,\n",
       " 'DIS': 274714869760,\n",
       " 'KO': 261165121536,\n",
       " 'MCD': 188193652736,\n",
       " 'COST': 222656069632,\n",
       " 'SBUX': 106563796992}"
      ]
     },
     "execution_count": 5,
     "metadata": {},
     "output_type": "execute_result"
    }
   ],
   "source": [
    "mcaps = {}\n",
    "for t in tickers:\n",
    "    stock = yf.Ticker(t)\n",
    "    mcaps[t] = stock.info[\"marketCap\"]\n",
    "mcaps"
   ]
  },
  {
   "cell_type": "markdown",
   "metadata": {},
   "source": [
    "## Constructing the prior"
   ]
  },
  {
   "cell_type": "code",
   "execution_count": 6,
   "metadata": {},
   "outputs": [
    {
     "data": {
      "text/plain": [
       "'1.5.1'"
      ]
     },
     "execution_count": 6,
     "metadata": {},
     "output_type": "execute_result"
    }
   ],
   "source": [
    "import pypfopt\n",
    "pypfopt.__version__"
   ]
  },
  {
   "cell_type": "code",
   "execution_count": 7,
   "metadata": {},
   "outputs": [
    {
     "data": {
      "text/plain": [
       "2.7163118248400777"
      ]
     },
     "execution_count": 7,
     "metadata": {},
     "output_type": "execute_result"
    }
   ],
   "source": [
    "from pypfopt import black_litterman, risk_models\n",
    "from pypfopt import BlackLittermanModel, plotting\n",
    "\n",
    "S = risk_models.CovarianceShrinkage(prices).ledoit_wolf()\n",
    "delta = black_litterman.market_implied_risk_aversion(market_prices)\n",
    "delta"
   ]
  },
  {
   "cell_type": "code",
   "execution_count": 8,
   "metadata": {},
   "outputs": [
    {
     "data": {
      "image/png": "[encoded data removed]",
      "text/plain": [
       "<Figure size 432x288 with 2 Axes>"
      ]
     },
     "metadata": {
      "needs_background": "light"
     },
     "output_type": "display_data"
    }
   ],
   "source": [
    "plotting.plot_covariance(S, plot_correlation=True);"
   ]
  },
  {
   "cell_type": "code",
   "execution_count": 9,
   "metadata": {},
   "outputs": [
    {
     "data": {
      "text/plain": [
       "AMZN    0.179599\n",
       "BAC     0.108998\n",
       "COST    0.078294\n",
       "DIS     0.097441\n",
       "DPZ     0.048791\n",
       "KO      0.064982\n",
       "MCD     0.069373\n",
       "MSFT    0.138439\n",
       "NAT     0.053330\n",
       "SBUX    0.080991\n",
       "dtype: float64"
      ]
     },
     "execution_count": 9,
     "metadata": {},
     "output_type": "execute_result"
    }
   ],
   "source": [
    "market_prior = black_litterman.market_implied_prior_returns(mcaps, delta, S)\n",
    "market_prior"
   ]
  },
  {
   "cell_type": "code",
   "execution_count": 10,
   "metadata": {},
   "outputs": [
    {
     "data": {
      "image/png": "[encoded data removed]",
      "text/plain": [
       "<Figure size 720x360 with 1 Axes>"
      ]
     },
     "metadata": {
      "needs_background": "light"
     },
     "output_type": "display_data"
    }
   ],
   "source": [
    "market_prior.plot.barh(figsize=(10,5));"
   ]
  },
  {
   "cell_type": "markdown",
   "metadata": {},
   "source": [
    "## Views\n",
    "\n",
    "In the BL method, views are specified via the matrix P (picking matrix) and the vector Q. Q contains the magnitude of each view, while P maps the views to the assets they belong to. \n",
    "\n",
    "If you are providing **absolute views** (i.e a return estimate for each asset), you don't have to worry about P and Q, you can just pass your views as a dictionary."
   ]
  },
  {
   "cell_type": "code",
   "execution_count": 11,
   "metadata": {},
   "outputs": [],
   "source": [
    "# You don't have to provide views on all the assets\n",
    "viewdict = {\n",
    "    \"AMZN\": 0.10,\n",
    "    \"BAC\": 0.30,\n",
    "    \"COST\": 0.05,\n",
    "    \"DIS\": 0.05,\n",
    "    \"DPZ\": 0.20,\n",
    "    \"KO\": -0.05,  # I think Coca-Cola will go down 5%\n",
    "    \"MCD\": 0.15,\n",
    "    \"MSFT\": 0.10,\n",
    "    \"NAT\": 0.50,  # but low confidence, which will be reflected later\n",
    "    \"SBUX\": 0.10\n",
    "}\n",
    "\n",
    "bl = BlackLittermanModel(S, pi=market_prior, absolute_views=viewdict)"
   ]
  },
  {
   "cell_type": "markdown",
   "metadata": {},
   "source": [
    "Black-Litterman also allows for relative views, e.g you think asset A will outperform asset B by 10%. If you'd like to incorporate these, you will have to build P and Q yourself. An explanation for this is given in the [docs](https://pyportfolioopt.readthedocs.io/en/latest/BlackLitterman.html#views)."
   ]
  },
  {
   "cell_type": "markdown",
   "metadata": {},
   "source": [
    "## View confidences\n",
    "\n",
    "In this section, we provide two ways that you may wish to construct the uncertainty matrix. The first is known as Idzorek's method. It allows you to specify a vector/list of percentage confidences."
   ]
  },
  {
   "cell_type": "code",
   "execution_count": 12,
   "metadata": {},
   "outputs": [],
   "source": [
    "confidences = [\n",
    "    0.6,\n",
    "    0.4,\n",
    "    0.2,\n",
    "    0.5,\n",
    "    0.7, # confident in dominos\n",
    "    0.7, # confident KO will do poorly\n",
    "    0.7, \n",
    "    0.5,\n",
    "    0.1,\n",
    "    0.4\n",
    "]"
   ]
  },
  {
   "cell_type": "code",
   "execution_count": 13,
   "metadata": {},
   "outputs": [],
   "source": [
    "bl = BlackLittermanModel(S, pi=market_prior, absolute_views=viewdict, omega=\"idzorek\", view_confidences=confidences)"
   ]
  },
  {
   "cell_type": "code",
   "execution_count": 14,
   "metadata": {},
   "outputs": [
    {
     "data": {
      "image/png": "[encoded data removed]",
      "text/plain": [
       "<Figure size 504x504 with 1 Axes>"
      ]
     },
     "metadata": {
      "needs_background": "light"
     },
     "output_type": "display_data"
    }
   ],
   "source": [
    "fig, ax = plt.subplots(figsize=(7,7))\n",
    "im = ax.imshow(bl.omega)\n",
    "\n",
    "# We want to show all ticks...\n",
    "ax.set_xticks(np.arange(len(bl.tickers)))\n",
    "ax.set_yticks(np.arange(len(bl.tickers)))\n",
    "\n",
    "ax.set_xticklabels(bl.tickers)\n",
    "ax.set_yticklabels(bl.tickers)\n",
    "plt.show()"
   ]
  },
  {
   "cell_type": "code",
   "execution_count": 15,
   "metadata": {},
   "outputs": [
    {
     "data": {
      "text/plain": [
       "array([0.0045612 , 0.00891405, 0.01205169, 0.00495605, 0.00082112,\n",
       "       0.00115501, 0.00173121, 0.00343027, 0.03646333, 0.0053544 ])"
      ]
     },
     "execution_count": 15,
     "metadata": {},
     "output_type": "execute_result"
    }
   ],
   "source": [
    "np.diag(bl.omega)"
   ]
  },
  {
   "cell_type": "markdown",
   "metadata": {},
   "source": [
    "Note how NAT, which we gave the lowest confidence, also has the highest uncertainty.\n",
    "\n",
    "Instead of inputting confidences, we can calculate the uncertainty matrix directly by specifying 1 standard deviation confidence intervals, i.e bounds which we think will contain the true return 68% of the time. This may be easier than coming up with somewhat arbitrary percentage confidences"
   ]
  },
  {
   "cell_type": "code",
   "execution_count": 16,
   "metadata": {},
   "outputs": [],
   "source": [
    "intervals = [\n",
    "    (0, 0.25),\n",
    "    (0.1, 0.4),\n",
    "    (-0.1, 0.15),\n",
    "    (-0.05, 0.1),\n",
    "    (0.15, 0.25),\n",
    "    (-0.1, 0),\n",
    "    (0.1, 0.2),\n",
    "    (0.08, 0.12),\n",
    "    (0.1, 0.9),\n",
    "    (0, 0.3)\n",
    "]"
   ]
  },
  {
   "cell_type": "code",
   "execution_count": 17,
   "metadata": {},
   "outputs": [
    {
     "name": "stdout",
     "output_type": "stream",
     "text": [
      "[0.015625, 0.022500000000000006, 0.015625, 0.0056250000000000015, 0.0025000000000000005, 0.0025000000000000005, 0.0025000000000000005, 0.00039999999999999986, 0.16000000000000003, 0.0225]\n"
     ]
    }
   ],
   "source": [
    "variances = []\n",
    "for lb, ub in intervals:\n",
    "    sigma = (ub - lb)/2\n",
    "    variances.append(sigma ** 2)\n",
    "\n",
    "print(variances)\n",
    "omega = np.diag(variances)"
   ]
  },
  {
   "cell_type": "markdown",
   "metadata": {},
   "source": [
    "## Posterior estimates\n",
    "\n",
    "Given the inputs, we can compute a posterior estimate of returns\n"
   ]
  },
  {
   "cell_type": "code",
   "execution_count": 18,
   "metadata": {},
   "outputs": [],
   "source": [
    "# We are using the shortcut to automatically compute market-implied prior\n",
    "bl = BlackLittermanModel(S, pi=\"market\", market_caps=mcaps, risk_aversion=delta,\n",
    "                        absolute_views=viewdict, omega=omega)"
   ]
  },
  {
   "cell_type": "code",
   "execution_count": 19,
   "metadata": {},
   "outputs": [
    {
     "data": {
      "text/plain": [
       "AMZN    0.154833\n",
       "BAC     0.137546\n",
       "COST    0.061900\n",
       "DIS     0.073586\n",
       "DPZ     0.102711\n",
       "KO      0.007869\n",
       "MCD     0.104254\n",
       "MSFT    0.103456\n",
       "NAT     0.061763\n",
       "SBUX    0.082455\n",
       "dtype: float64"
      ]
     },
     "execution_count": 19,
     "metadata": {},
     "output_type": "execute_result"
    }
   ],
   "source": [
    "# Posterior estimate of returns\n",
    "ret_bl = bl.bl_returns()\n",
    "ret_bl"
   ]
  },
  {
   "cell_type": "markdown",
   "metadata": {},
   "source": [
    "We can visualise how this compares to the prior and our views:"
   ]
  },
  {
   "cell_type": "code",
   "execution_count": 20,
   "metadata": {},
   "outputs": [
    {
     "data": {
      "text/html": [
       "<div>\n",
       "<style scoped>\n",
       "    .dataframe tbody tr th:only-of-type {\n",
       "        vertical-align: middle;\n",
       "    }\n",
       "\n",
       "    .dataframe tbody tr th {\n",
       "        vertical-align: top;\n",
       "    }\n",
       "\n",
       "    .dataframe thead th {\n",
       "        text-align: right;\n",
       "    }\n",
       "</style>\n",
       "<table border=\"1\" class=\"dataframe\">\n",
       "  <thead>\n",
       "    <tr style=\"text-align: right;\">\n",
       "      <th></th>\n",
       "      <th>Prior</th>\n",
       "      <th>Posterior</th>\n",
       "      <th>Views</th>\n",
       "    </tr>\n",
       "  </thead>\n",
       "  <tbody>\n",
       "    <tr>\n",
       "      <th>AMZN</th>\n",
       "      <td>0.179599</td>\n",
       "      <td>0.154833</td>\n",
       "      <td>0.10</td>\n",
       "    </tr>\n",
       "    <tr>\n",
       "      <th>BAC</th>\n",
       "      <td>0.108998</td>\n",
       "      <td>0.137546</td>\n",
       "      <td>0.30</td>\n",
       "    </tr>\n",
       "    <tr>\n",
       "      <th>COST</th>\n",
       "      <td>0.078294</td>\n",
       "      <td>0.061900</td>\n",
       "      <td>0.05</td>\n",
       "    </tr>\n",
       "    <tr>\n",
       "      <th>DIS</th>\n",
       "      <td>0.097441</td>\n",
       "      <td>0.073586</td>\n",
       "      <td>0.05</td>\n",
       "    </tr>\n",
       "    <tr>\n",
       "      <th>DPZ</th>\n",
       "      <td>0.048791</td>\n",
       "      <td>0.102711</td>\n",
       "      <td>0.20</td>\n",
       "    </tr>\n",
       "    <tr>\n",
       "      <th>KO</th>\n",
       "      <td>0.064982</td>\n",
       "      <td>0.007869</td>\n",
       "      <td>-0.05</td>\n",
       "    </tr>\n",
       "    <tr>\n",
       "      <th>MCD</th>\n",
       "      <td>0.069373</td>\n",
       "      <td>0.104254</td>\n",
       "      <td>0.15</td>\n",
       "    </tr>\n",
       "    <tr>\n",
       "      <th>MSFT</th>\n",
       "      <td>0.138439</td>\n",
       "      <td>0.103456</td>\n",
       "      <td>0.10</td>\n",
       "    </tr>\n",
       "    <tr>\n",
       "      <th>NAT</th>\n",
       "      <td>0.053330</td>\n",
       "      <td>0.061763</td>\n",
       "      <td>0.50</td>\n",
       "    </tr>\n",
       "    <tr>\n",
       "      <th>SBUX</th>\n",
       "      <td>0.080991</td>\n",
       "      <td>0.082455</td>\n",
       "      <td>0.10</td>\n",
       "    </tr>\n",
       "  </tbody>\n",
       "</table>\n",
       "</div>"
      ],
      "text/plain": [
       "         Prior  Posterior  Views\n",
       "AMZN  0.179599   0.154833   0.10\n",
       "BAC   0.108998   0.137546   0.30\n",
       "COST  0.078294   0.061900   0.05\n",
       "DIS   0.097441   0.073586   0.05\n",
       "DPZ   0.048791   0.102711   0.20\n",
       "KO    0.064982   0.007869  -0.05\n",
       "MCD   0.069373   0.104254   0.15\n",
       "MSFT  0.138439   0.103456   0.10\n",
       "NAT   0.053330   0.061763   0.50\n",
       "SBUX  0.080991   0.082455   0.10"
      ]
     },
     "execution_count": 20,
     "metadata": {},
     "output_type": "execute_result"
    }
   ],
   "source": [
    "rets_df = pd.DataFrame([market_prior, ret_bl, pd.Series(viewdict)], \n",
    "             index=[\"Prior\", \"Posterior\", \"Views\"]).T\n",
    "rets_df"
   ]
  },
  {
   "cell_type": "code",
   "execution_count": 21,
   "metadata": {},
   "outputs": [
    {
     "data": {
      "image/png": "[encoded data removed]",
      "text/plain": [
       "<Figure size 864x576 with 1 Axes>"
      ]
     },
     "metadata": {
      "needs_background": "light"
     },
     "output_type": "display_data"
    }
   ],
   "source": [
    "rets_df.plot.bar(figsize=(12,8));"
   ]
  },
  {
   "cell_type": "markdown",
   "metadata": {},
   "source": [
    "Notice that the posterior is often between the prior and the views. This supports the fact that the BL method is essentially a Bayesian weighted-average of the prior and views, where the weight is determined by the confidence.\n",
    "\n",
    "A similar but less intuitive procedure can be used to produce the posterior covariance estimate:"
   ]
  },
  {
   "cell_type": "code",
   "execution_count": 22,
   "metadata": {},
   "outputs": [
    {
     "data": {
      "image/png": "[encoded data removed]",
      "text/plain": [
       "<Figure size 432x288 with 2 Axes>"
      ]
     },
     "metadata": {
      "needs_background": "light"
     },
     "output_type": "display_data"
    }
   ],
   "source": [
    "S_bl = bl.bl_cov()\n",
    "plotting.plot_covariance(S_bl);"
   ]
  },
  {
   "cell_type": "markdown",
   "metadata": {},
   "source": [
    "## Portfolio allocation\n",
    "\n",
    "Now that we have constructed our Black-Litterman posterior estimate, we can proceed to use any of the optimizers discussed in previous recipes."
   ]
  },
  {
   "cell_type": "code",
   "execution_count": 23,
   "metadata": {},
   "outputs": [],
   "source": [
    "from pypfopt import EfficientFrontier, objective_functions"
   ]
  },
  {
   "cell_type": "code",
   "execution_count": 24,
   "metadata": {},
   "outputs": [
    {
     "name": "stderr",
     "output_type": "stream",
     "text": [
      "C:\\ProgramData\\Anaconda3\\lib\\site-packages\\pypfopt\\efficient_frontier\\efficient_frontier.py:257: UserWarning: max_sharpe transforms the optimization problem so additional objectives may not work as expected.\n",
      "  warnings.warn(\n"
     ]
    },
    {
     "data": {
      "text/plain": [
       "OrderedDict([('AMZN', 0.19423),\n",
       "             ('BAC', 0.16669),\n",
       "             ('COST', 0.05467),\n",
       "             ('DIS', 0.06604),\n",
       "             ('DPZ', 0.13104),\n",
       "             ('KO', 0.0),\n",
       "             ('MCD', 0.12507),\n",
       "             ('MSFT', 0.12043),\n",
       "             ('NAT', 0.05638),\n",
       "             ('SBUX', 0.08545)])"
      ]
     },
     "execution_count": 24,
     "metadata": {},
     "output_type": "execute_result"
    }
   ],
   "source": [
    "ef = EfficientFrontier(ret_bl, S_bl)\n",
    "ef.add_objective(objective_functions.L2_reg)\n",
    "ef.max_sharpe()\n",
    "weights = ef.clean_weights()\n",
    "weights"
   ]
  },
  {
   "cell_type": "code",
   "execution_count": 25,
   "metadata": {},
   "outputs": [
    {
     "data": {
      "image/png": "[encoded data removed]",
      "text/plain": [
       "<Figure size 720x720 with 1 Axes>"
      ]
     },
     "metadata": {},
     "output_type": "display_data"
    }
   ],
   "source": [
    "pd.Series(weights).plot.pie(figsize=(10,10));"
   ]
  },
  {
   "cell_type": "code",
   "execution_count": 26,
   "metadata": {},
   "outputs": [
    {
     "name": "stdout",
     "output_type": "stream",
     "text": [
      "Leftover: $523.11\n"
     ]
    },
    {
     "data": {
      "text/plain": [
       "{'AMZN': 1,\n",
       " 'BAC': 107,\n",
       " 'COST': 3,\n",
       " 'DIS': 8,\n",
       " 'DPZ': 7,\n",
       " 'MCD': 13,\n",
       " 'MSFT': 10,\n",
       " 'NAT': 387,\n",
       " 'SBUX': 18}"
      ]
     },
     "execution_count": 26,
     "metadata": {},
     "output_type": "execute_result"
    }
   ],
   "source": [
    "from pypfopt import DiscreteAllocation\n",
    "\n",
    "da = DiscreteAllocation(weights, prices.iloc[-1], total_portfolio_value=20000)\n",
    "alloc, leftover = da.lp_portfolio()\n",
    "print(f\"Leftover: ${leftover:.2f}\")\n",
    "alloc"
   ]
  },
  {
   "cell_type": "code",
   "execution_count": null,
   "metadata": {},
   "outputs": [],
   "source": []
  }
 ],
 "metadata": {
  "kernelspec": {
   "display_name": "Python 3 (ipykernel)",
   "language": "python",
   "name": "python3"
  },
  "language_info": {
   "codemirror_mode": {
    "name": "ipython",
    "version": 3
   },
   "file_extension": ".py",
   "mimetype": "text/x-python",
   "name": "python",
   "nbconvert_exporter": "python",
   "pygments_lexer": "ipython3",
   "version": "3.9.12"
  }
 },
 "nbformat": 4,
 "nbformat_minor": 4
}
